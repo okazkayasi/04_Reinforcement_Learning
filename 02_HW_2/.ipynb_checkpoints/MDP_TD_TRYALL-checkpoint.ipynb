{
 "cells": [
  {
   "cell_type": "code",
   "execution_count": 1,
   "metadata": {},
   "outputs": [],
   "source": [
    "import mdptoolbox\n",
    "import numpy as np\n",
    "from math import ceil, log"
   ]
  },
  {
   "cell_type": "code",
   "execution_count": 42,
   "metadata": {},
   "outputs": [],
   "source": [
    "probToState1 = 0.89\n",
    "valueEstimates = [0.0,0.0,8.4,14.3,7.3,4.2,0.0]\n",
    "rews = [5.4,-1.2,0.0,-1.3,-2.7,-2.1,8.4]"
   ]
  },
  {
   "cell_type": "code",
   "execution_count": 43,
   "metadata": {},
   "outputs": [
    {
     "data": {
      "text/plain": [
       "array([[[0.  , 0.89, 0.11, 0.  , 0.  , 0.  , 0.  ],\n",
       "        [0.  , 0.  , 0.  , 1.  , 0.  , 0.  , 0.  ],\n",
       "        [0.  , 0.  , 0.  , 1.  , 0.  , 0.  , 0.  ],\n",
       "        [0.  , 0.  , 0.  , 0.  , 1.  , 0.  , 0.  ],\n",
       "        [0.  , 0.  , 0.  , 0.  , 0.  , 1.  , 0.  ],\n",
       "        [0.  , 0.  , 0.  , 0.  , 0.  , 0.  , 1.  ],\n",
       "        [0.  , 0.  , 0.  , 0.  , 0.  , 0.  , 1.  ]]])"
      ]
     },
     "execution_count": 43,
     "metadata": {},
     "output_type": "execute_result"
    }
   ],
   "source": [
    "number_of_states = len(valueEstimates)\n",
    "probs = np.zeros((1, number_of_states, number_of_states))\n",
    "\n",
    "probs[0, 0, 1] = probToState1\n",
    "probs[0, 0, 2] = 1 - probToState1\n",
    "for i in range(2, number_of_states-1):\n",
    "    probs[0, i, i+1] = 1\n",
    "probs[0, 1, 3] = 1\n",
    "probs[0, -1, -1] = 1\n",
    "probs"
   ]
  },
  {
   "cell_type": "code",
   "execution_count": 44,
   "metadata": {},
   "outputs": [
    {
     "data": {
      "text/plain": [
       "array([[[ 0. ,  5.4, -1.2,  0. ,  0. ,  0. ,  0. ],\n",
       "        [ 0. ,  0. ,  0. ,  0. ,  0. ,  0. ,  0. ],\n",
       "        [ 0. ,  0. ,  0. , -1.3,  0. ,  0. ,  0. ],\n",
       "        [ 0. ,  0. ,  0. ,  0. , -2.7,  0. ,  0. ],\n",
       "        [ 0. ,  0. ,  0. ,  0. ,  0. , -2.1,  0. ],\n",
       "        [ 0. ,  0. ,  0. ,  0. ,  0. ,  0. ,  8.4],\n",
       "        [ 0. ,  0. ,  0. ,  0. ,  0. ,  0. ,  0. ]]])"
      ]
     },
     "execution_count": 44,
     "metadata": {},
     "output_type": "execute_result"
    }
   ],
   "source": [
    "# rewards is action and state and also next state based \n",
    "\n",
    "rewards = np.zeros((1, number_of_states, number_of_states))\n",
    "\n",
    "rewards[0,0,1] = rews[0]\n",
    "rewards[0,0,2] = rews[1]\n",
    "rewards[0,1,3] = rews[2]\n",
    "rewards[0,2,3] = rews[3]\n",
    "for i in range(3, number_of_states-1):\n",
    "    rewards[0, i, i+1] = rews[i+1]\n",
    "rewards"
   ]
  },
  {
   "cell_type": "code",
   "execution_count": 45,
   "metadata": {},
   "outputs": [
    {
     "name": "stdout",
     "output_type": "stream",
     "text": [
      "WARNING: check conditions of convergence. With no discount, convergence can not be assumed.\n"
     ]
    }
   ],
   "source": [
    "vi = mdptoolbox.mdp.ValueIteration(probs, rewards, 1)\n",
    "vi.run()"
   ]
  },
  {
   "cell_type": "code",
   "execution_count": 46,
   "metadata": {},
   "outputs": [
    {
     "data": {
      "text/plain": [
       "(8.131,\n",
       " 3.6000000000000005,\n",
       " 2.3000000000000007,\n",
       " 3.6000000000000005,\n",
       " 6.300000000000001,\n",
       " 8.4,\n",
       " 0.0)"
      ]
     },
     "execution_count": 46,
     "metadata": {},
     "output_type": "execute_result"
    }
   ],
   "source": [
    "vi.V"
   ]
  },
  {
   "cell_type": "code",
   "execution_count": 47,
   "metadata": {},
   "outputs": [
    {
     "name": "stdout",
     "output_type": "stream",
     "text": [
      "WARNING: check conditions of convergence. With no discount, convergence can not be assumed.\n",
      "WARNING: check conditions of convergence. With no discount, convergence can not be assumed.\n",
      "WARNING: check conditions of convergence. With no discount, convergence can not be assumed.\n",
      "WARNING: check conditions of convergence. With no discount, convergence can not be assumed.\n",
      "WARNING: check conditions of convergence. With no discount, convergence can not be assumed.\n",
      "WARNING: check conditions of convergence. With no discount, convergence can not be assumed.\n"
     ]
    },
    {
     "data": {
      "text/plain": [
       "[5.598000000000001, 18.831, 9.131, 3.931, 8.131, 8.131]"
      ]
     },
     "execution_count": 47,
     "metadata": {},
     "output_type": "execute_result"
    }
   ],
   "source": [
    "### k-step estimate\n",
    "# if k == 1 then only check the place we can go directly\n",
    "k_list = []\n",
    "for i in range(1, number_of_states):\n",
    "    k_step = mdptoolbox.mdp.ValueIteration(probs, reward=rewards, discount=1, max_iter=i,\\\n",
    "                                   initial_value=valueEstimates)\n",
    "    k_step.run()\n",
    "    k_list.append(k_step.V[0])\n",
    "k_list"
   ]
  },
  {
   "cell_type": "code",
   "execution_count": 48,
   "metadata": {},
   "outputs": [],
   "source": [
    "def td_lambda(k_list, lam):\n",
    "    n_state = len(k_list)\n",
    "    ret = 0\n",
    "    for i in range(10000):\n",
    "        if i < n_state:\n",
    "            comp = (1-lam) * (lam**i) * k_list[i]\n",
    "        else:\n",
    "            comp = (1-lam) * (lam**i) * k_list[-1]\n",
    "        ret += comp\n",
    "    return ret"
   ]
  },
  {
   "cell_type": "code",
   "execution_count": 49,
   "metadata": {},
   "outputs": [
    {
     "name": "stdout",
     "output_type": "stream",
     "text": [
      "result of lambda:  8.13101398181\n",
      "difference:  1.39818053029e-05\n",
      "lambda:  0.2367\n"
     ]
    }
   ],
   "source": [
    "minn = 9999999\n",
    "best = 0\n",
    "trial = 100000\n",
    "check = vi.V[0]\n",
    "tdd = 0\n",
    "for i in range(trial):\n",
    "    lam = float(i) / trial\n",
    "    can = td_lambda(k_list, lam)\n",
    "    diff = abs(check - can)\n",
    "#     if can > maks:\n",
    "#         maks = can\n",
    "#         best = lam\n",
    "    \n",
    "    minn, best, tdd = min((minn, best, tdd), (diff, lam, can))\n",
    "print \"result of lambda: \", tdd        \n",
    "print \"difference: \", minn\n",
    "print \"lambda: \", best"
   ]
  },
  {
   "cell_type": "code",
   "execution_count": 25,
   "metadata": {},
   "outputs": [
    {
     "name": "stdout",
     "output_type": "stream",
     "text": [
      "11.5939913522\n"
     ]
    }
   ],
   "source": [
    "print td_lambda(k_list, 0.49567)"
   ]
  },
  {
   "cell_type": "code",
   "execution_count": 13,
   "metadata": {},
   "outputs": [
    {
     "name": "stdout",
     "output_type": "stream",
     "text": [
      "max:  5.5\n",
      "lambda:  0.0\n"
     ]
    }
   ],
   "source": [
    "maks = 0\n",
    "best = 0\n",
    "trial = 100000\n",
    "check = vi.V[0]\n",
    "tdd = 0\n",
    "for i in range(trial):\n",
    "    lam = float(i) / trial\n",
    "    can = td_lambda(k_list, lam)\n",
    "#     if can > maks:\n",
    "#         maks = can\n",
    "#         best = lam\n",
    "    \n",
    "    maks, best = max((maks, best), (can, lam))\n",
    "print \"max: \", maks\n",
    "print \"lambda: \", best"
   ]
  },
  {
   "cell_type": "code",
   "execution_count": null,
   "metadata": {},
   "outputs": [],
   "source": []
  }
 ],
 "metadata": {
  "kernelspec": {
   "display_name": "Python 2",
   "language": "python",
   "name": "python2"
  },
  "language_info": {
   "codemirror_mode": {
    "name": "ipython",
    "version": 2
   },
   "file_extension": ".py",
   "mimetype": "text/x-python",
   "name": "python",
   "nbconvert_exporter": "python",
   "pygments_lexer": "ipython2",
   "version": "2.7.12"
  }
 },
 "nbformat": 4,
 "nbformat_minor": 2
}
