{
 "cells": [
  {
   "cell_type": "code",
   "execution_count": 74,
   "metadata": {},
   "outputs": [],
   "source": [
    "import mdptoolbox\n",
    "import numpy as np\n",
    "from math import ceil, log\n",
    "import json"
   ]
  },
  {
   "cell_type": "code",
   "execution_count": 94,
   "metadata": {},
   "outputs": [
    {
     "data": {
      "text/plain": [
       "array([[0., 0., 0., 0., 0., 0., 0., 0., 0., 0., 0., 0., 0., 0., 0.],\n",
       "       [1., 0., 0., 0., 0., 0., 0., 0., 0., 0., 0., 0., 0., 0., 0.],\n",
       "       [0., 1., 0., 0., 0., 0., 0., 0., 0., 0., 0., 0., 0., 0., 0.],\n",
       "       [0., 0., 1., 0., 0., 0., 0., 0., 0., 0., 0., 0., 0., 0., 0.],\n",
       "       [0., 0., 0., 1., 0., 0., 0., 0., 0., 0., 0., 0., 0., 0., 0.],\n",
       "       [0., 0., 0., 0., 1., 0., 0., 0., 0., 0., 0., 0., 0., 0., 0.],\n",
       "       [0., 0., 0., 0., 0., 1., 0., 0., 0., 0., 0., 0., 0., 0., 0.],\n",
       "       [0., 0., 0., 0., 0., 0., 1., 0., 0., 0., 0., 0., 0., 0., 0.],\n",
       "       [0., 0., 0., 0., 0., 0., 0., 1., 0., 0., 0., 0., 0., 0., 0.],\n",
       "       [0., 0., 0., 0., 0., 0., 0., 0., 1., 0., 0., 0., 0., 0., 0.],\n",
       "       [0., 0., 0., 0., 0., 0., 0., 0., 0., 1., 0., 0., 0., 0., 0.],\n",
       "       [0., 0., 0., 0., 0., 0., 0., 0., 0., 0., 1., 0., 0., 0., 0.],\n",
       "       [0., 0., 0., 0., 0., 0., 0., 0., 0., 0., 0., 1., 0., 0., 0.],\n",
       "       [0., 0., 0., 0., 0., 0., 0., 0., 0., 0., 0., 0., 1., 0., 0.],\n",
       "       [0., 0., 0., 0., 0., 0., 0., 0., 0., 0., 0., 0., 0., 1., 0.]])"
      ]
     },
     "execution_count": 94,
     "metadata": {},
     "output_type": "execute_result"
    }
   ],
   "source": [
    "number_of_states = 30\n",
    "probs = np.zeros((2, number_of_states, number_of_states))\n",
    "\n",
    "# to go right with action 0\n",
    "for i in range(0, number_of_states-1):\n",
    "    probs[0, i, i+1] = 1\n",
    "    \n",
    "# to go left with action 1\n",
    "for i in range(1, number_of_states):\n",
    "    probs[1, i, i-1] = 1\n",
    "\n",
    "    \n",
    "# this are terminal states\n",
    "probs[0, -1, -1] = 1\n",
    "probs[1, -1, -2] = 1 \n",
    "probs[1, 0, 0] = 1\n",
    "\n",
    "probs[1, 15:, 15:]"
   ]
  },
  {
   "cell_type": "code",
   "execution_count": 95,
   "metadata": {},
   "outputs": [
    {
     "data": {
      "text/plain": [
       "array([0., 0., 0., 0., 0., 0., 0., 0., 0., 0., 0., 0., 0., 0., 0., 0., 0.,\n",
       "       0., 0., 0., 0., 0., 0., 0., 0., 0., 0., 0., 1., 0.])"
      ]
     },
     "execution_count": 95,
     "metadata": {},
     "output_type": "execute_result"
    }
   ],
   "source": [
    "probs[1,29,:]"
   ]
  },
  {
   "cell_type": "code",
   "execution_count": 96,
   "metadata": {},
   "outputs": [],
   "source": [
    "# rewards is action and state and also next state based \n",
    "\n",
    "rewards = np.zeros((2, number_of_states, number_of_states))\n",
    "\n",
    "rewards[0,:,:] = -1\n",
    "rewards[1,:,:] = 1\n",
    "rewards[0,-2,-1] = 999999\n",
    "\n",
    "\n",
    "rewards\n",
    "\n",
    "gamma = 0.75"
   ]
  },
  {
   "cell_type": "code",
   "execution_count": 97,
   "metadata": {},
   "outputs": [],
   "source": [
    "pi = mdptoolbox.mdp.PolicyIteration(probs, rewards, gamma, eval_type=1)\n",
    "pi.run()"
   ]
  },
  {
   "cell_type": "code",
   "execution_count": 98,
   "metadata": {},
   "outputs": [
    {
     "data": {
      "text/plain": [
       "29"
      ]
     },
     "execution_count": 98,
     "metadata": {},
     "output_type": "execute_result"
    }
   ],
   "source": [
    "pi.iter"
   ]
  },
  {
   "cell_type": "code",
   "execution_count": 83,
   "metadata": {},
   "outputs": [],
   "source": [
    "pyDict = {'gamma':0.75}"
   ]
  },
  {
   "cell_type": "code",
   "execution_count": 84,
   "metadata": {},
   "outputs": [],
   "source": [
    "states = []\n",
    "for i in range(number_of_states):\n",
    "    dicted = {}\n",
    "    dicted['id'] = i\n",
    "    \n",
    "    \n",
    "    actions = []\n",
    "    for act in range(2):\n",
    "        act_dict = {}\n",
    "        \n",
    "        tr_dict = {}\n",
    "        tr_dict['id'] = 0\n",
    "        to = np.where(probs[act, i, :])[0][0]\n",
    "        tr_dict['probability'] = probs[act, i, to] \n",
    "        tr_dict['reward'] = rewards[act, i, to]\n",
    "        tr_dict['to'] = to\n",
    "        tr_list = []\n",
    "        tr_list.append(tr_dict)\n",
    "        act_dict['transitions'] = tr_list \n",
    "        act_dict['id'] = act\n",
    "        actions.append(act_dict)\n",
    "        \n",
    "    \n",
    "    dicted['actions'] = actions\n",
    "    \n",
    "    states.append(dicted)\n",
    "states\n",
    "\n",
    "pyDict['states'] = states"
   ]
  },
  {
   "cell_type": "code",
   "execution_count": 85,
   "metadata": {},
   "outputs": [
    {
     "data": {
      "text/plain": [
       "array([1., 0., 0., 0., 0., 0., 0., 0., 0., 0., 0., 0., 0., 0., 0., 0., 0.,\n",
       "       0., 0., 0., 0., 0., 0., 0., 0., 0., 0., 0., 0., 0.])"
      ]
     },
     "execution_count": 85,
     "metadata": {},
     "output_type": "execute_result"
    }
   ],
   "source": [
    "probs[1,0]"
   ]
  },
  {
   "cell_type": "code",
   "execution_count": 86,
   "metadata": {},
   "outputs": [],
   "source": [
    "dict_to_json = json.dumps(pyDict, indent=4)"
   ]
  },
  {
   "cell_type": "code",
   "execution_count": 87,
   "metadata": {},
   "outputs": [
    {
     "data": {
      "text/plain": [
       "{'gamma': 0.75,\n",
       " 'states': [{'actions': [{'id': 0,\n",
       "     'transitions': [{'id': 0, 'probability': 1.0, 'reward': -1.0, 'to': 1}]},\n",
       "    {'id': 1,\n",
       "     'transitions': [{'id': 0, 'probability': 1.0, 'reward': 1.0, 'to': 0}]}],\n",
       "   'id': 0},\n",
       "  {'actions': [{'id': 0,\n",
       "     'transitions': [{'id': 0, 'probability': 1.0, 'reward': -1.0, 'to': 2}]},\n",
       "    {'id': 1,\n",
       "     'transitions': [{'id': 0, 'probability': 1.0, 'reward': 1.0, 'to': 0}]}],\n",
       "   'id': 1},\n",
       "  {'actions': [{'id': 0,\n",
       "     'transitions': [{'id': 0, 'probability': 1.0, 'reward': -1.0, 'to': 3}]},\n",
       "    {'id': 1,\n",
       "     'transitions': [{'id': 0, 'probability': 1.0, 'reward': 1.0, 'to': 1}]}],\n",
       "   'id': 2},\n",
       "  {'actions': [{'id': 0,\n",
       "     'transitions': [{'id': 0, 'probability': 1.0, 'reward': -1.0, 'to': 4}]},\n",
       "    {'id': 1,\n",
       "     'transitions': [{'id': 0, 'probability': 1.0, 'reward': 1.0, 'to': 2}]}],\n",
       "   'id': 3},\n",
       "  {'actions': [{'id': 0,\n",
       "     'transitions': [{'id': 0, 'probability': 1.0, 'reward': -1.0, 'to': 5}]},\n",
       "    {'id': 1,\n",
       "     'transitions': [{'id': 0, 'probability': 1.0, 'reward': 1.0, 'to': 3}]}],\n",
       "   'id': 4},\n",
       "  {'actions': [{'id': 0,\n",
       "     'transitions': [{'id': 0, 'probability': 1.0, 'reward': -1.0, 'to': 6}]},\n",
       "    {'id': 1,\n",
       "     'transitions': [{'id': 0, 'probability': 1.0, 'reward': 1.0, 'to': 4}]}],\n",
       "   'id': 5},\n",
       "  {'actions': [{'id': 0,\n",
       "     'transitions': [{'id': 0, 'probability': 1.0, 'reward': -1.0, 'to': 7}]},\n",
       "    {'id': 1,\n",
       "     'transitions': [{'id': 0, 'probability': 1.0, 'reward': 1.0, 'to': 5}]}],\n",
       "   'id': 6},\n",
       "  {'actions': [{'id': 0,\n",
       "     'transitions': [{'id': 0, 'probability': 1.0, 'reward': -1.0, 'to': 8}]},\n",
       "    {'id': 1,\n",
       "     'transitions': [{'id': 0, 'probability': 1.0, 'reward': 1.0, 'to': 6}]}],\n",
       "   'id': 7},\n",
       "  {'actions': [{'id': 0,\n",
       "     'transitions': [{'id': 0, 'probability': 1.0, 'reward': -1.0, 'to': 9}]},\n",
       "    {'id': 1,\n",
       "     'transitions': [{'id': 0, 'probability': 1.0, 'reward': 1.0, 'to': 7}]}],\n",
       "   'id': 8},\n",
       "  {'actions': [{'id': 0,\n",
       "     'transitions': [{'id': 0, 'probability': 1.0, 'reward': -1.0, 'to': 10}]},\n",
       "    {'id': 1,\n",
       "     'transitions': [{'id': 0, 'probability': 1.0, 'reward': 1.0, 'to': 8}]}],\n",
       "   'id': 9},\n",
       "  {'actions': [{'id': 0,\n",
       "     'transitions': [{'id': 0, 'probability': 1.0, 'reward': -1.0, 'to': 11}]},\n",
       "    {'id': 1,\n",
       "     'transitions': [{'id': 0, 'probability': 1.0, 'reward': 1.0, 'to': 9}]}],\n",
       "   'id': 10},\n",
       "  {'actions': [{'id': 0,\n",
       "     'transitions': [{'id': 0, 'probability': 1.0, 'reward': -1.0, 'to': 12}]},\n",
       "    {'id': 1,\n",
       "     'transitions': [{'id': 0, 'probability': 1.0, 'reward': 1.0, 'to': 10}]}],\n",
       "   'id': 11},\n",
       "  {'actions': [{'id': 0,\n",
       "     'transitions': [{'id': 0, 'probability': 1.0, 'reward': -1.0, 'to': 13}]},\n",
       "    {'id': 1,\n",
       "     'transitions': [{'id': 0, 'probability': 1.0, 'reward': 1.0, 'to': 11}]}],\n",
       "   'id': 12},\n",
       "  {'actions': [{'id': 0,\n",
       "     'transitions': [{'id': 0, 'probability': 1.0, 'reward': -1.0, 'to': 14}]},\n",
       "    {'id': 1,\n",
       "     'transitions': [{'id': 0, 'probability': 1.0, 'reward': 1.0, 'to': 12}]}],\n",
       "   'id': 13},\n",
       "  {'actions': [{'id': 0,\n",
       "     'transitions': [{'id': 0, 'probability': 1.0, 'reward': -1.0, 'to': 15}]},\n",
       "    {'id': 1,\n",
       "     'transitions': [{'id': 0, 'probability': 1.0, 'reward': 1.0, 'to': 13}]}],\n",
       "   'id': 14},\n",
       "  {'actions': [{'id': 0,\n",
       "     'transitions': [{'id': 0, 'probability': 1.0, 'reward': -1.0, 'to': 16}]},\n",
       "    {'id': 1,\n",
       "     'transitions': [{'id': 0, 'probability': 1.0, 'reward': 1.0, 'to': 14}]}],\n",
       "   'id': 15},\n",
       "  {'actions': [{'id': 0,\n",
       "     'transitions': [{'id': 0, 'probability': 1.0, 'reward': -1.0, 'to': 17}]},\n",
       "    {'id': 1,\n",
       "     'transitions': [{'id': 0, 'probability': 1.0, 'reward': 1.0, 'to': 15}]}],\n",
       "   'id': 16},\n",
       "  {'actions': [{'id': 0,\n",
       "     'transitions': [{'id': 0, 'probability': 1.0, 'reward': -1.0, 'to': 18}]},\n",
       "    {'id': 1,\n",
       "     'transitions': [{'id': 0, 'probability': 1.0, 'reward': 1.0, 'to': 16}]}],\n",
       "   'id': 17},\n",
       "  {'actions': [{'id': 0,\n",
       "     'transitions': [{'id': 0, 'probability': 1.0, 'reward': -1.0, 'to': 19}]},\n",
       "    {'id': 1,\n",
       "     'transitions': [{'id': 0, 'probability': 1.0, 'reward': 1.0, 'to': 17}]}],\n",
       "   'id': 18},\n",
       "  {'actions': [{'id': 0,\n",
       "     'transitions': [{'id': 0, 'probability': 1.0, 'reward': -1.0, 'to': 20}]},\n",
       "    {'id': 1,\n",
       "     'transitions': [{'id': 0, 'probability': 1.0, 'reward': 1.0, 'to': 18}]}],\n",
       "   'id': 19},\n",
       "  {'actions': [{'id': 0,\n",
       "     'transitions': [{'id': 0, 'probability': 1.0, 'reward': -1.0, 'to': 21}]},\n",
       "    {'id': 1,\n",
       "     'transitions': [{'id': 0, 'probability': 1.0, 'reward': 1.0, 'to': 19}]}],\n",
       "   'id': 20},\n",
       "  {'actions': [{'id': 0,\n",
       "     'transitions': [{'id': 0, 'probability': 1.0, 'reward': -1.0, 'to': 22}]},\n",
       "    {'id': 1,\n",
       "     'transitions': [{'id': 0, 'probability': 1.0, 'reward': 1.0, 'to': 20}]}],\n",
       "   'id': 21},\n",
       "  {'actions': [{'id': 0,\n",
       "     'transitions': [{'id': 0, 'probability': 1.0, 'reward': -1.0, 'to': 23}]},\n",
       "    {'id': 1,\n",
       "     'transitions': [{'id': 0, 'probability': 1.0, 'reward': 1.0, 'to': 21}]}],\n",
       "   'id': 22},\n",
       "  {'actions': [{'id': 0,\n",
       "     'transitions': [{'id': 0, 'probability': 1.0, 'reward': -1.0, 'to': 24}]},\n",
       "    {'id': 1,\n",
       "     'transitions': [{'id': 0, 'probability': 1.0, 'reward': 1.0, 'to': 22}]}],\n",
       "   'id': 23},\n",
       "  {'actions': [{'id': 0,\n",
       "     'transitions': [{'id': 0, 'probability': 1.0, 'reward': -1.0, 'to': 25}]},\n",
       "    {'id': 1,\n",
       "     'transitions': [{'id': 0, 'probability': 1.0, 'reward': 1.0, 'to': 23}]}],\n",
       "   'id': 24},\n",
       "  {'actions': [{'id': 0,\n",
       "     'transitions': [{'id': 0, 'probability': 1.0, 'reward': -1.0, 'to': 26}]},\n",
       "    {'id': 1,\n",
       "     'transitions': [{'id': 0, 'probability': 1.0, 'reward': 1.0, 'to': 24}]}],\n",
       "   'id': 25},\n",
       "  {'actions': [{'id': 0,\n",
       "     'transitions': [{'id': 0, 'probability': 1.0, 'reward': -1.0, 'to': 27}]},\n",
       "    {'id': 1,\n",
       "     'transitions': [{'id': 0, 'probability': 1.0, 'reward': 1.0, 'to': 25}]}],\n",
       "   'id': 26},\n",
       "  {'actions': [{'id': 0,\n",
       "     'transitions': [{'id': 0, 'probability': 1.0, 'reward': -1.0, 'to': 28}]},\n",
       "    {'id': 1,\n",
       "     'transitions': [{'id': 0, 'probability': 1.0, 'reward': 1.0, 'to': 26}]}],\n",
       "   'id': 27},\n",
       "  {'actions': [{'id': 0,\n",
       "     'transitions': [{'id': 0,\n",
       "       'probability': 1.0,\n",
       "       'reward': 999999.0,\n",
       "       'to': 29}]},\n",
       "    {'id': 1,\n",
       "     'transitions': [{'id': 0, 'probability': 1.0, 'reward': 1.0, 'to': 27}]}],\n",
       "   'id': 28},\n",
       "  {'actions': [{'id': 0,\n",
       "     'transitions': [{'id': 0, 'probability': 1.0, 'reward': -1.0, 'to': 29}]},\n",
       "    {'id': 1,\n",
       "     'transitions': [{'id': 0, 'probability': 1.0, 'reward': 1.0, 'to': 29}]}],\n",
       "   'id': 29}]}"
      ]
     },
     "execution_count": 87,
     "metadata": {},
     "output_type": "execute_result"
    }
   ],
   "source": [
    "pyDict"
   ]
  },
  {
   "cell_type": "code",
   "execution_count": 88,
   "metadata": {},
   "outputs": [],
   "source": [
    "with open('data.json', 'w') as outfile:\n",
    "    json.dump(pyDict, outfile, indent=2)"
   ]
  },
  {
   "cell_type": "code",
   "execution_count": 63,
   "metadata": {},
   "outputs": [
    {
     "data": {
      "text/plain": [
       "1.0"
      ]
     },
     "execution_count": 63,
     "metadata": {},
     "output_type": "execute_result"
    }
   ],
   "source": [
    "probs[0,0,0]"
   ]
  },
  {
   "cell_type": "code",
   "execution_count": null,
   "metadata": {},
   "outputs": [],
   "source": []
  }
 ],
 "metadata": {
  "kernelspec": {
   "display_name": "Python 2",
   "language": "python",
   "name": "python2"
  },
  "language_info": {
   "codemirror_mode": {
    "name": "ipython",
    "version": 2
   },
   "file_extension": ".py",
   "mimetype": "text/x-python",
   "name": "python",
   "nbconvert_exporter": "python",
   "pygments_lexer": "ipython2",
   "version": "2.7.15"
  }
 },
 "nbformat": 4,
 "nbformat_minor": 2
}
