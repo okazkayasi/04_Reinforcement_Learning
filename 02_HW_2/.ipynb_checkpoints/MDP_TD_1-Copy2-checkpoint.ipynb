{
 "cells": [
  {
   "cell_type": "code",
   "execution_count": 79,
   "metadata": {},
   "outputs": [],
   "source": [
    "import mdptoolbox\n",
    "import numpy as np\n",
    "from math import ceil, log"
   ]
  },
  {
   "cell_type": "code",
   "execution_count": 80,
   "metadata": {},
   "outputs": [
    {
     "name": "stdout",
     "output_type": "stream",
     "text": [
      "[2, 4, 6, 8, 10, 12, 14, 16, 18, 20, 22, 24, 26]\n",
      "[1, 3, 5, 7, 9, 11, 13, 15, 17, 19, 21, 23, 25]\n"
     ]
    }
   ],
   "source": [
    "print range(2, 28,2)\n",
    "print range(1, 27,2)"
   ]
  },
  {
   "cell_type": "code",
   "execution_count": 87,
   "metadata": {},
   "outputs": [
    {
     "data": {
      "text/plain": [
       "array([[0. , 0.5, 0.5, 0. , 0. , 0. , 0. , 0. , 0. , 0. ],\n",
       "       [0. , 0. , 0. , 1. , 0. , 0. , 0. , 0. , 0. , 0. ],\n",
       "       [0. , 0. , 0. , 0.5, 0.5, 0. , 0. , 0. , 0. , 0. ],\n",
       "       [0. , 0. , 0. , 0. , 0. , 1. , 0. , 0. , 0. , 0. ],\n",
       "       [0. , 0. , 0. , 0. , 0. , 0.5, 0.5, 0. , 0. , 0. ],\n",
       "       [0. , 0. , 0. , 0. , 0. , 0. , 0. , 1. , 0. , 0. ],\n",
       "       [0. , 0. , 0. , 0. , 0. , 0. , 0. , 0.5, 0.5, 0. ],\n",
       "       [0. , 0. , 0. , 0. , 0. , 0. , 0. , 0. , 0. , 1. ],\n",
       "       [0. , 0. , 0. , 0. , 0. , 0. , 0. , 0. , 0. , 1. ],\n",
       "       [0. , 0. , 0. , 0. , 0. , 0. , 0. , 0. , 0. , 1. ]])"
      ]
     },
     "execution_count": 87,
     "metadata": {},
     "output_type": "execute_result"
    }
   ],
   "source": [
    "number_of_states = 30\n",
    "probs = np.zeros((2, number_of_states, number_of_states))\n",
    "\n",
    "\n",
    "# probability for start node\n",
    "probs[0, 0, 1] = 0.3\n",
    "probs[0, 0, 2] = 0.7\n",
    "probs[1, 0, 1] = 0.7\n",
    "probs[1, 0, 2] = 0.3\n",
    "\n",
    "# probabilities for odd a1 and a2\n",
    "for i in range(1, 27, 2):\n",
    "    probs[0, i, i+2] = 1\n",
    "    probs[1, i, i+1] = 1\n",
    "\n",
    "probs[0, 27, 29] = 1\n",
    "probs[1, 27, 29] = 1\n",
    "\n",
    "# probabilities for even \n",
    "for i in range(2, 28, 2):\n",
    "    probs[0, i, i+1] = 0.5\n",
    "    probs[0, i, i+2] = 0.5\n",
    "    probs[1, i, i+1] = 0.5\n",
    "    probs[1, i, i+2] = 0.5\n",
    "\n",
    "probs[0, 28, 29] = 1\n",
    "probs[1, 28, 29] = 1\n",
    "\n",
    "probs[0, -1, -1] = 1\n",
    "probs[1, -1, -1] = 1\n",
    "probs[0, 20:, 20:]"
   ]
  },
  {
   "cell_type": "code",
   "execution_count": 88,
   "metadata": {},
   "outputs": [],
   "source": [
    "# rewards is action and state and also next state based \n",
    "\n",
    "rewards = np.zeros((2, number_of_states, number_of_states))\n",
    "\n",
    "rewards[0, 27, 29] = -1\n",
    "rewards[1, 27, 29] = -1"
   ]
  },
  {
   "cell_type": "code",
   "execution_count": 89,
   "metadata": {},
   "outputs": [],
   "source": [
    "pi = mdptoolbox.mdp.PolicyIteration(probs, rewards, 0.75)\n",
    "pi.run()"
   ]
  },
  {
   "cell_type": "code",
   "execution_count": 92,
   "metadata": {},
   "outputs": [
    {
     "data": {
      "text/plain": [
       "(1,\n",
       " 1,\n",
       " 0,\n",
       " 1,\n",
       " 0,\n",
       " 1,\n",
       " 0,\n",
       " 1,\n",
       " 0,\n",
       " 1,\n",
       " 0,\n",
       " 1,\n",
       " 0,\n",
       " 1,\n",
       " 0,\n",
       " 1,\n",
       " 0,\n",
       " 1,\n",
       " 0,\n",
       " 1,\n",
       " 0,\n",
       " 1,\n",
       " 0,\n",
       " 1,\n",
       " 0,\n",
       " 1,\n",
       " 0,\n",
       " 0,\n",
       " 0,\n",
       " 0)"
      ]
     },
     "execution_count": 92,
     "metadata": {},
     "output_type": "execute_result"
    }
   ],
   "source": [
    "pi.policy"
   ]
  },
  {
   "cell_type": "code",
   "execution_count": null,
   "metadata": {},
   "outputs": [],
   "source": []
  },
  {
   "cell_type": "code",
   "execution_count": null,
   "metadata": {},
   "outputs": [],
   "source": []
  }
 ],
 "metadata": {
  "kernelspec": {
   "display_name": "Python 2",
   "language": "python",
   "name": "python2"
  },
  "language_info": {
   "codemirror_mode": {
    "name": "ipython",
    "version": 2
   },
   "file_extension": ".py",
   "mimetype": "text/x-python",
   "name": "python",
   "nbconvert_exporter": "python",
   "pygments_lexer": "ipython2",
   "version": "2.7.15"
  }
 },
 "nbformat": 4,
 "nbformat_minor": 2
}
