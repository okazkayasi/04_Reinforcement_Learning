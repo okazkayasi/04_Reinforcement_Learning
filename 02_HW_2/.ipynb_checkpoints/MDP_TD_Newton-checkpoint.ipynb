{
 "cells": [
  {
   "cell_type": "code",
   "execution_count": 9,
   "metadata": {},
   "outputs": [],
   "source": [
    "import mdptoolbox\n",
    "import numpy as np\n",
    "from math import ceil, log\n",
    "from scipy import optimize"
   ]
  },
  {
   "cell_type": "code",
   "execution_count": 84,
   "metadata": {},
   "outputs": [],
   "source": [
    "probToState1 = 0.22\n",
    "valueEstimates = [0.0,-5.2,0.0,25.4,10.6,9.2,12.3]\n",
    "rews = [-2.4,0.8,4.0,2.5,8.6,-6.4,6.1]"
   ]
  },
  {
   "cell_type": "code",
   "execution_count": 85,
   "metadata": {},
   "outputs": [
    {
     "data": {
      "text/plain": [
       "array([[[0.  , 0.22, 0.78, 0.  , 0.  , 0.  , 0.  ],\n",
       "        [0.  , 0.  , 0.  , 1.  , 0.  , 0.  , 0.  ],\n",
       "        [0.  , 0.  , 0.  , 1.  , 0.  , 0.  , 0.  ],\n",
       "        [0.  , 0.  , 0.  , 0.  , 1.  , 0.  , 0.  ],\n",
       "        [0.  , 0.  , 0.  , 0.  , 0.  , 1.  , 0.  ],\n",
       "        [0.  , 0.  , 0.  , 0.  , 0.  , 0.  , 1.  ],\n",
       "        [0.  , 0.  , 0.  , 0.  , 0.  , 0.  , 1.  ]]])"
      ]
     },
     "execution_count": 85,
     "metadata": {},
     "output_type": "execute_result"
    }
   ],
   "source": [
    "number_of_states = len(valueEstimates)\n",
    "probs = np.zeros((1, number_of_states, number_of_states))\n",
    "\n",
    "probs[0, 0, 1] = probToState1\n",
    "probs[0, 0, 2] = 1 - probToState1\n",
    "for i in range(2, number_of_states-1):\n",
    "    probs[0, i, i+1] = 1\n",
    "probs[0, 1, 3] = 1\n",
    "probs[0, -1, -1] = 1\n",
    "probs"
   ]
  },
  {
   "cell_type": "code",
   "execution_count": 86,
   "metadata": {},
   "outputs": [
    {
     "data": {
      "text/plain": [
       "array([[[ 0. , -2.4,  0.8,  0. ,  0. ,  0. ,  0. ],\n",
       "        [ 0. ,  0. ,  0. ,  4. ,  0. ,  0. ,  0. ],\n",
       "        [ 0. ,  0. ,  0. ,  2.5,  0. ,  0. ,  0. ],\n",
       "        [ 0. ,  0. ,  0. ,  0. ,  8.6,  0. ,  0. ],\n",
       "        [ 0. ,  0. ,  0. ,  0. ,  0. , -6.4,  0. ],\n",
       "        [ 0. ,  0. ,  0. ,  0. ,  0. ,  0. ,  6.1],\n",
       "        [ 0. ,  0. ,  0. ,  0. ,  0. ,  0. ,  0. ]]])"
      ]
     },
     "execution_count": 86,
     "metadata": {},
     "output_type": "execute_result"
    }
   ],
   "source": [
    "# rewards is action and state and also next state based \n",
    "\n",
    "rewards = np.zeros((1, number_of_states, number_of_states))\n",
    "\n",
    "rewards[0,0,1] = rews[0]\n",
    "rewards[0,0,2] = rews[1]\n",
    "rewards[0,1,3] = rews[2]\n",
    "rewards[0,2,3] = rews[3]\n",
    "for i in range(3, number_of_states-1):\n",
    "    rewards[0, i, i+1] = rews[i+1]\n",
    "rewards"
   ]
  },
  {
   "cell_type": "code",
   "execution_count": 87,
   "metadata": {},
   "outputs": [
    {
     "name": "stdout",
     "output_type": "stream",
     "text": [
      "WARNING: check conditions of convergence. With no discount, convergence can not be assumed.\n"
     ]
    }
   ],
   "source": [
    "vi = mdptoolbox.mdp.ValueIteration(probs, rewards, 1)\n",
    "vi.run()"
   ]
  },
  {
   "cell_type": "code",
   "execution_count": 88,
   "metadata": {},
   "outputs": [
    {
     "data": {
      "text/plain": [
       "(11.225999999999999,\n",
       " 12.299999999999999,\n",
       " 10.799999999999999,\n",
       " 8.299999999999999,\n",
       " -0.3000000000000007,\n",
       " 6.1,\n",
       " 0.0)"
      ]
     },
     "execution_count": 88,
     "metadata": {},
     "output_type": "execute_result"
    }
   ],
   "source": [
    "vi.V"
   ]
  },
  {
   "cell_type": "code",
   "execution_count": 89,
   "metadata": {},
   "outputs": [
    {
     "name": "stdout",
     "output_type": "stream",
     "text": [
      "WARNING: check conditions of convergence. With no discount, convergence can not be assumed.\n",
      "WARNING: check conditions of convergence. With no discount, convergence can not be assumed.\n",
      "WARNING: check conditions of convergence. With no discount, convergence can not be assumed.\n",
      "WARNING: check conditions of convergence. With no discount, convergence can not be assumed.\n",
      "WARNING: check conditions of convergence. With no discount, convergence can not be assumed.\n",
      "WARNING: check conditions of convergence. With no discount, convergence can not be assumed.\n"
     ]
    },
    {
     "data": {
      "text/plain": [
       "[-1.048, 28.326, 22.125999999999998, 14.325999999999999, 23.526, 23.526]"
      ]
     },
     "execution_count": 89,
     "metadata": {},
     "output_type": "execute_result"
    }
   ],
   "source": [
    "### k-step estimate\n",
    "# if k == 1 then only check the place we can go directly\n",
    "k_list = []\n",
    "for i in range(1, number_of_states):\n",
    "    k_step = mdptoolbox.mdp.ValueIteration(probs, reward=rewards, discount=1, max_iter=i,\\\n",
    "                                   initial_value=valueEstimates)\n",
    "    k_step.run()\n",
    "    k_list.append(k_step.V[0])\n",
    "k_list"
   ]
  },
  {
   "cell_type": "code",
   "execution_count": 90,
   "metadata": {},
   "outputs": [],
   "source": [
    "def td_lambda(lam, k_list=k_list, checkScore = vi.V[0]):\n",
    "    n_state = len(k_list)\n",
    "    ret = 0\n",
    "    for i in range(10000):\n",
    "        if i < n_state:\n",
    "            comp = (1-lam) * (lam**i) * k_list[i]\n",
    "        else:\n",
    "            comp = (1-lam) * (lam**i) * k_list[-1]\n",
    "        ret += comp\n",
    "    return abs(ret - checkScore)"
   ]
  },
  {
   "cell_type": "code",
   "execution_count": 91,
   "metadata": {},
   "outputs": [
    {
     "data": {
      "text/plain": [
       "0.478968723580087"
      ]
     },
     "execution_count": 91,
     "metadata": {},
     "output_type": "execute_result"
    }
   ],
   "source": [
    "best = optimize.newton(td_lambda, x0=0)\n",
    "best"
   ]
  },
  {
   "cell_type": "code",
   "execution_count": null,
   "metadata": {},
   "outputs": [],
   "source": []
  },
  {
   "cell_type": "code",
   "execution_count": null,
   "metadata": {},
   "outputs": [],
   "source": []
  }
 ],
 "metadata": {
  "kernelspec": {
   "display_name": "Python 2",
   "language": "python",
   "name": "python2"
  },
  "language_info": {
   "codemirror_mode": {
    "name": "ipython",
    "version": 2
   },
   "file_extension": ".py",
   "mimetype": "text/x-python",
   "name": "python",
   "nbconvert_exporter": "python",
   "pygments_lexer": "ipython2",
   "version": "2.7.12"
  }
 },
 "nbformat": 4,
 "nbformat_minor": 2
}
