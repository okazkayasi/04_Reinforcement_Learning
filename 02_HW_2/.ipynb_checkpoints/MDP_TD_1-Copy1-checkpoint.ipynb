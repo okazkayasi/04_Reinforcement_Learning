{
 "cells": [
  {
   "cell_type": "code",
   "execution_count": 1,
   "metadata": {},
   "outputs": [],
   "source": [
    "import mdptoolbox\n",
    "import numpy as np\n",
    "from math import ceil, log"
   ]
  },
  {
   "cell_type": "code",
   "execution_count": 3,
   "metadata": {},
   "outputs": [
    {
     "data": {
      "text/plain": [
       "array([[[0.  , 0.81, 0.19, 0.  , 0.  , 0.  , 0.  ],\n",
       "        [0.  , 0.  , 0.  , 1.  , 0.  , 0.  , 0.  ],\n",
       "        [0.  , 0.  , 0.  , 1.  , 0.  , 0.  , 0.  ],\n",
       "        [0.  , 0.  , 0.  , 0.  , 1.  , 0.  , 0.  ],\n",
       "        [0.  , 0.  , 0.  , 0.  , 0.  , 1.  , 0.  ],\n",
       "        [0.  , 0.  , 0.  , 0.  , 0.  , 0.  , 1.  ],\n",
       "        [0.  , 0.  , 0.  , 0.  , 0.  , 0.  , 1.  ]]])"
      ]
     },
     "execution_count": 3,
     "metadata": {},
     "output_type": "execute_result"
    }
   ],
   "source": [
    "number_of_states = len(valueEstimates)\n",
    "probs = np.zeros((1, number_of_states, number_of_states))\n",
    "\n",
    "probs[0, 0, 1] = probToState1\n",
    "probs[0, 0, 2] = 1 - probToState1\n",
    "for i in range(2, number_of_states-1):\n",
    "    probs[0, i, i+1] = 1\n",
    "probs[0, 1, 3] = 1\n",
    "probs[0, -1, -1] = 1\n",
    "probs"
   ]
  },
  {
   "cell_type": "code",
   "execution_count": 6,
   "metadata": {},
   "outputs": [
    {
     "data": {
      "text/plain": [
       "array([[[ 0. ,  7.9, -5.1,  0. ,  0. ,  0. ,  0. ],\n",
       "        [ 0. ,  0. ,  0. ,  2.5,  0. ,  0. ,  0. ],\n",
       "        [ 0. ,  0. ,  0. , -7.2,  0. ,  0. ,  0. ],\n",
       "        [ 0. ,  0. ,  0. ,  0. ,  9. ,  0. ,  0. ],\n",
       "        [ 0. ,  0. ,  0. ,  0. ,  0. ,  0. ,  0. ],\n",
       "        [ 0. ,  0. ,  0. ,  0. ,  0. ,  0. ,  1.6],\n",
       "        [ 0. ,  0. ,  0. ,  0. ,  0. ,  0. ,  0. ]]])"
      ]
     },
     "execution_count": 6,
     "metadata": {},
     "output_type": "execute_result"
    }
   ],
   "source": [
    "# rewards is action and state and also next state based \n",
    "\n",
    "rewards = np.zeros((1, number_of_states, number_of_states))\n",
    "\n",
    "rewards[0,0,1] = rews[0]\n",
    "rewards[0,0,2] = rews[1]\n",
    "rewards[0,1,3] = rews[2]\n",
    "rewards[0,2,3] = rews[3]\n",
    "for i in range(3, number_of_states-1):\n",
    "    rewards[0, i, i+1] = rews[i+1]\n",
    "rewards"
   ]
  },
  {
   "cell_type": "code",
   "execution_count": 7,
   "metadata": {},
   "outputs": [
    {
     "name": "stdout",
     "output_type": "stream",
     "text": [
      "WARNING: check conditions of convergence. With no discount, convergence can not be assumed.\n"
     ]
    }
   ],
   "source": [
    "vi = mdptoolbox.mdp.ValueIteration(probs, rewards, 1)\n",
    "vi.run()"
   ]
  },
  {
   "cell_type": "code",
   "execution_count": 8,
   "metadata": {},
   "outputs": [
    {
     "data": {
      "text/plain": [
       "(16.687, 13.1, 3.3999999999999995, 10.6, 1.6, 1.6, 0.0)"
      ]
     },
     "execution_count": 8,
     "metadata": {},
     "output_type": "execute_result"
    }
   ],
   "source": [
    "vi.V"
   ]
  },
  {
   "cell_type": "code",
   "execution_count": 9,
   "metadata": {},
   "outputs": [
    {
     "name": "stdout",
     "output_type": "stream",
     "text": [
      "WARNING: check conditions of convergence. With no discount, convergence can not be assumed.\n",
      "WARNING: check conditions of convergence. With no discount, convergence can not be assumed.\n",
      "WARNING: check conditions of convergence. With no discount, convergence can not be assumed.\n",
      "WARNING: check conditions of convergence. With no discount, convergence can not be assumed.\n",
      "WARNING: check conditions of convergence. With no discount, convergence can not be assumed.\n",
      "WARNING: check conditions of convergence. With no discount, convergence can not be assumed.\n"
     ]
    },
    {
     "data": {
      "text/plain": [
       "[13.552999999999999,\n",
       " 6.087000000000002,\n",
       " 35.187000000000005,\n",
       " 27.287,\n",
       " 16.687,\n",
       " 16.687]"
      ]
     },
     "execution_count": 9,
     "metadata": {},
     "output_type": "execute_result"
    }
   ],
   "source": [
    "### k-step estimate\n",
    "# if k == 1 then only check the place we can go directly\n",
    "k_list = []\n",
    "for i in range(1, number_of_states):\n",
    "    k_step = mdptoolbox.mdp.ValueIteration(probs, reward=rewards, discount=1, max_iter=i,\\\n",
    "                                   initial_value=valueEstimates)\n",
    "    k_step.run()\n",
    "    k_list.append(k_step.V[0])\n",
    "k_list"
   ]
  },
  {
   "cell_type": "code",
   "execution_count": 10,
   "metadata": {},
   "outputs": [
    {
     "data": {
      "text/plain": [
       "[1, 2, 3, 4, 5, 6]"
      ]
     },
     "execution_count": 10,
     "metadata": {},
     "output_type": "execute_result"
    }
   ],
   "source": [
    "range(1,7)"
   ]
  },
  {
   "cell_type": "code",
   "execution_count": 22,
   "metadata": {},
   "outputs": [],
   "source": [
    "def td_lambda(k_list, lam):\n",
    "    n_state = len(k_list)\n",
    "    ret = 0\n",
    "    for i in range(1000):\n",
    "        if i < n_state:\n",
    "            comp = (1-lam) * (lam**i) * k_list[i]\n",
    "        else:\n",
    "            comp = (1-lam) * (lam**i) * k_list[-1]\n",
    "        ret += comp\n",
    "    return ret"
   ]
  },
  {
   "cell_type": "code",
   "execution_count": 35,
   "metadata": {},
   "outputs": [
    {
     "name": "stdout",
     "output_type": "stream",
     "text": [
      "result of lambda:  16.6870046442\n",
      "difference:  4.64416833523e-06\n",
      "lambda:  0.62277\n"
     ]
    }
   ],
   "source": [
    "minn = 9999999\n",
    "best = 0\n",
    "trial = 100000\n",
    "check = vi.V[0]\n",
    "tdd = 0\n",
    "for i in range(trial):\n",
    "    lam = float(i) / trial\n",
    "    can = td_lambda(k_list, lam)\n",
    "    diff = abs(check - can)\n",
    "#     if can > maks:\n",
    "#         maks = can\n",
    "#         best = lam\n",
    "    \n",
    "    minn, best, tdd = min((minn, best, tdd), (diff, lam, can))\n",
    "print \"result of lambda: \", tdd        \n",
    "print \"difference: \", minn\n",
    "print \"lambda: \", best"
   ]
  },
  {
   "cell_type": "code",
   "execution_count": 26,
   "metadata": {},
   "outputs": [
    {
     "name": "stdout",
     "output_type": "stream",
     "text": [
      "16.6857205721\n"
     ]
    }
   ],
   "source": [
    "print td_lambda(k_list, 00.6226326309908364)"
   ]
  },
  {
   "cell_type": "code",
   "execution_count": null,
   "metadata": {},
   "outputs": [],
   "source": []
  }
 ],
 "metadata": {
  "kernelspec": {
   "display_name": "Python 2",
   "language": "python",
   "name": "python2"
  },
  "language_info": {
   "codemirror_mode": {
    "name": "ipython",
    "version": 2
   },
   "file_extension": ".py",
   "mimetype": "text/x-python",
   "name": "python",
   "nbconvert_exporter": "python",
   "pygments_lexer": "ipython2",
   "version": "2.7.15"
  }
 },
 "nbformat": 4,
 "nbformat_minor": 2
}
