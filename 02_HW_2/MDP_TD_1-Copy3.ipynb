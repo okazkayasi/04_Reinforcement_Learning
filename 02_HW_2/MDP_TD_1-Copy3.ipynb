{
 "cells": [
  {
   "cell_type": "code",
   "execution_count": 36,
   "metadata": {},
   "outputs": [],
   "source": [
    "import mdptoolbox\n",
    "import numpy as np\n",
    "from math import ceil, log"
   ]
  },
  {
   "cell_type": "code",
   "execution_count": 45,
   "metadata": {},
   "outputs": [],
   "source": [
    "number_of_states = 30\n",
    "probs = np.zeros((2, number_of_states, number_of_states))\n",
    "\n",
    "\n",
    "# this are terminal states\n",
    "probs[0, 0, 0] = 1\n",
    "probs[1, 0, 0] = 1\n",
    "\n",
    "\n",
    "# to go left with action 0\n",
    "for i in range(1, number_of_states):\n",
    "    probs[0, i, i-1] = 1\n",
    "    \n",
    "# to go right with action 1\n",
    "for i in range(1, number_of_states-1):\n",
    "    probs[1, i, i+1] = 1\n",
    "\n",
    "    \n",
    "probs[1, -1, -1] = 1\n",
    "    \n"
   ]
  },
  {
   "cell_type": "code",
   "execution_count": 46,
   "metadata": {},
   "outputs": [],
   "source": [
    "# rewards is action and state and also next state based \n",
    "\n",
    "rewards = np.zeros((2, number_of_states, number_of_states))\n",
    "\n",
    "rewards[0,:,:] = -1\n",
    "rewards[1,:,:] = 1\n",
    "rewards[0,1,0] = 999999\n",
    "\n",
    "\n",
    "rewards\n",
    "\n",
    "gamma = 0.75"
   ]
  },
  {
   "cell_type": "code",
   "execution_count": 47,
   "metadata": {},
   "outputs": [],
   "source": [
    "pi = mdptoolbox.mdp.PolicyIteration(probs, rewards, gamma, eval_type=1)\n",
    "pi.run()"
   ]
  },
  {
   "cell_type": "code",
   "execution_count": 48,
   "metadata": {},
   "outputs": [
    {
     "data": {
      "text/plain": [
       "29"
      ]
     },
     "execution_count": 48,
     "metadata": {},
     "output_type": "execute_result"
    }
   ],
   "source": [
    "pi.iter"
   ]
  },
  {
   "cell_type": "code",
   "execution_count": null,
   "metadata": {},
   "outputs": [],
   "source": []
  },
  {
   "cell_type": "code",
   "execution_count": null,
   "metadata": {},
   "outputs": [],
   "source": []
  }
 ],
 "metadata": {
  "kernelspec": {
   "display_name": "Python 2",
   "language": "python",
   "name": "python2"
  },
  "language_info": {
   "codemirror_mode": {
    "name": "ipython",
    "version": 2
   },
   "file_extension": ".py",
   "mimetype": "text/x-python",
   "name": "python",
   "nbconvert_exporter": "python",
   "pygments_lexer": "ipython2",
   "version": "2.7.15"
  }
 },
 "nbformat": 4,
 "nbformat_minor": 2
}
