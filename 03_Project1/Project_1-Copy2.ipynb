{
 "cells": [
  {
   "cell_type": "code",
   "execution_count": 30,
   "metadata": {},
   "outputs": [],
   "source": [
    "import numpy as np\n",
    "import math\n",
    "import matplotlib.pyplot as plt\n",
    "%matplotlib inline\n",
    "np.set_printoptions(suppress=True)"
   ]
  },
  {
   "cell_type": "code",
   "execution_count": 40,
   "metadata": {},
   "outputs": [],
   "source": [
    "# first let's create the start state \n",
    "state = np.zeros((7))\n",
    "state[3] = 1\n",
    "state\n",
    "\n",
    "seq = state\n",
    "seq\n",
    "\n",
    "loc = np.argwhere(state)\n",
    "loc = loc[0][0]\n",
    "loc\n",
    "\n",
    "sequence_array = []"
   ]
  },
  {
   "cell_type": "code",
   "execution_count": 41,
   "metadata": {},
   "outputs": [
    {
     "name": "stdout",
     "output_type": "stream",
     "text": [
      "[[0. 0. 0. 1. 0. 0. 0.]\n",
      " [0. 0. 1. 0. 0. 0. 0.]\n",
      " [0. 1. 0. 0. 0. 0. 0.]\n",
      " [1. 0. 0. 0. 0. 0. 0.]]\n"
     ]
    }
   ],
   "source": [
    "all_array = []\n",
    "\n",
    "for j in range(100):\n",
    "    sequence_array = []\n",
    "    for i in range(10):\n",
    "        state = np.zeros((7), dtype=np.int)\n",
    "        state[3] = 1\n",
    "        seq = state\n",
    "        loc = np.argwhere(state)[0][0]\n",
    "\n",
    "        while loc != 0 and loc != state.shape[0] - 1:\n",
    "            if np.random.rand() <= 0.5:\n",
    "                loc += -1\n",
    "            else:\n",
    "                loc += 1\n",
    "            state = np.zeros(7)\n",
    "            state[loc] = 1\n",
    "            seq = np.vstack((seq, state))\n",
    "        sequence_array.append(seq)\n",
    "    all_array.append(sequence_array)\n",
    "print all_array[0][9]\n",
    "    \n"
   ]
  },
  {
   "cell_type": "code",
   "execution_count": 42,
   "metadata": {},
   "outputs": [],
   "source": [
    "def rmse(predictions, targets):\n",
    "    return np.sqrt(np.mean((predictions-targets)**2))"
   ]
  },
  {
   "cell_type": "code",
   "execution_count": 46,
   "metadata": {
    "scrolled": true
   },
   "outputs": [],
   "source": [
    "Z = np.array([0., 1./6, 1./3, 1./2, 2./3, 5./6, 1])\n",
    "lambdas = [0., 0.1, 0.2, 0.3, 0.4, 0.5, 0.6, 0.7, 0.8, 0.9, 1.]\n",
    "rms_lambdas = np.zeros((11,100))\n",
    "index = -1\n",
    "for lam in lambdas:\n",
    "    index += 1\n",
    "    rmses = []  \n",
    "    for mm in np.linspace(0,0.6,100):\n",
    "        \n",
    "        alpha = mm\n",
    "        ten_seq = all_array[1]\n",
    "        last_ans = np.zeros((100, 5))\n",
    "        \n",
    "        # start of a training set\n",
    "        for ten in range(100):\n",
    "            w_0 = np.array([0, 0.5, 0.5, 0.5, 0.5, 0.5, 1])\n",
    "            ten_seq = all_array[ten] \n",
    "\n",
    "            ten_sum = np.zeros(7)\n",
    "            \n",
    "            # start of a sequence\n",
    "            for i in range(len(ten_seq)):\n",
    "                seq = ten_seq[i]\n",
    "                sum_delta_w = np.zeros(7)\n",
    "                \n",
    "                # start of each obs\n",
    "                for t in range(len(seq)-1):\n",
    "                    # calculate first part \n",
    "                    P0 = np.dot(w_0, seq[t])\n",
    "                    P1 = np.dot(w_0, seq[t+1])\n",
    "                    first = alpha * (P1 - P0)\n",
    "                    \n",
    "                    req_mat = np.array(seq[:t+1, :])\n",
    "                    k_t_sum = np.zeros(7)\n",
    "\n",
    "                    # delta W\n",
    "                    for k in range(t+1):\n",
    "                        up = t - k\n",
    "                        lambed = lam ** up\n",
    "                        req_mat[k] = req_mat[k] * lambed\n",
    "                    k_t_sum = np.sum(req_mat, axis=0)\n",
    "                    delta_w = first * k_t_sum\n",
    "\n",
    "                    sum_delta_w = sum_delta_w + delta_w\n",
    "                    \n",
    "                w_0 = w_0 + sum_delta_w        \n",
    "\n",
    "            ### A sequence ends over here\n",
    "\n",
    "            last_ans[ten, :] = w_0[1:-1]\n",
    "        rmsed = rmse(last_ans, Z[1:-1])\n",
    "        rmses.append(rmsed)\n",
    "        # print lam, alpha, rmsed\n",
    "    rms_lambdas[index, :] = np.array(rmses) \n",
    "    "
   ]
  },
  {
   "cell_type": "code",
   "execution_count": 48,
   "metadata": {},
   "outputs": [
    {
     "name": "stdout",
     "output_type": "stream",
     "text": [
      "[0.19393939 0.19393939 0.18787879 0.17575758 0.16969697 0.15757576\n",
      " 0.13939394 0.12727273 0.10909091 0.08484848 0.04242424]\n"
     ]
    },
    {
     "data": {
      "text/plain": [
       "array([0.09709588, 0.09514703, 0.09547847, 0.09712604, 0.09978319,\n",
       "       0.10363131, 0.10903407, 0.11666646, 0.12788855, 0.14664866,\n",
       "       0.18804284])"
      ]
     },
     "execution_count": 48,
     "metadata": {},
     "output_type": "execute_result"
    }
   ],
   "source": [
    "q = np.min(rms_lambdas, axis=1)\n",
    "l = np.argmin(rms_lambdas, axis=1)\n",
    "print np.linspace(0, 0.6, 100)[l]\n",
    "q"
   ]
  },
  {
   "cell_type": "code",
   "execution_count": 50,
   "metadata": {},
   "outputs": [
    {
     "data": {
      "image/png": "[encoded data removed]",
      "text/plain": [
       "<matplotlib.figure.Figure at 0x7fe7f7599e50>"
      ]
     },
     "metadata": {},
     "output_type": "display_data"
    }
   ],
   "source": [
    "X = np.linspace(0, 1, 11)\n",
    "# create a new figure of size 10 x 8 points using 100 dots per inch\n",
    "plt.figure(figsize=(10,8), dpi=100)\n",
    "\n",
    "# create a new subplot from a grid of 1x1\n",
    "plt.subplot(111)\n",
    "\n",
    "plt.plot(X, q, linewidth=2.0, label=\"lambda=0\")\n",
    "\n",
    "# set x limits\n",
    "plt.xlim(-0.1, 1.1)\n",
    "\n",
    "# set x ticks\n",
    "plt.xticks(np.linspace(0,1.0,11))\n",
    "\n",
    "# set y limits\n",
    "plt.ylim(0.08, 0.2)\n",
    "\n",
    "# set legend\n",
    "# plt.legend(loc='upper left')\n",
    "\n",
    "# add grids\n",
    "plt.grid()\n",
    "\n"
   ]
  },
  {
   "cell_type": "code",
   "execution_count": null,
   "metadata": {},
   "outputs": [],
   "source": []
  }
 ],
 "metadata": {
  "kernelspec": {
   "display_name": "Python 2",
   "language": "python",
   "name": "python2"
  },
  "language_info": {
   "codemirror_mode": {
    "name": "ipython",
    "version": 2
   },
   "file_extension": ".py",
   "mimetype": "text/x-python",
   "name": "python",
   "nbconvert_exporter": "python",
   "pygments_lexer": "ipython2",
   "version": "2.7.12"
  }
 },
 "nbformat": 4,
 "nbformat_minor": 2
}
