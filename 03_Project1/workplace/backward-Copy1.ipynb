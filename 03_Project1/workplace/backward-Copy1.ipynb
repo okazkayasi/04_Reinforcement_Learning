{
 "cells": [
  {
   "cell_type": "code",
   "execution_count": 4,
   "metadata": {
    "collapsed": true
   },
   "outputs": [],
   "source": [
    "import numpy as np\n",
    "import math\n",
    "import matplotlib.pyplot as plt\n",
    "%matplotlib inline\n",
    "np.set_printoptions(suppress=True)"
   ]
  },
  {
   "cell_type": "code",
   "execution_count": 5,
   "metadata": {
    "collapsed": true
   },
   "outputs": [],
   "source": [
    "# first let's create the start state \n",
    "state = np.zeros((7))\n",
    "state[3] = 1\n",
    "state\n",
    "\n",
    "seq = state\n",
    "seq\n",
    "\n",
    "loc = np.argwhere(state)\n",
    "loc = loc[0][0]\n",
    "loc\n",
    "\n",
    "sequence_array = []"
   ]
  },
  {
   "cell_type": "code",
   "execution_count": 6,
   "metadata": {
    "collapsed": false
   },
   "outputs": [
    {
     "name": "stdout",
     "output_type": "stream",
     "text": [
      "[[0. 0. 0. 1. 0. 0. 0.]\n",
      " [0. 0. 1. 0. 0. 0. 0.]\n",
      " [0. 0. 0. 1. 0. 0. 0.]\n",
      " [0. 0. 0. 0. 1. 0. 0.]\n",
      " [0. 0. 0. 1. 0. 0. 0.]\n",
      " [0. 0. 1. 0. 0. 0. 0.]\n",
      " [0. 1. 0. 0. 0. 0. 0.]\n",
      " [1. 0. 0. 0. 0. 0. 0.]]\n"
     ]
    }
   ],
   "source": [
    "all_array = []\n",
    "\n",
    "for j in range(100):\n",
    "    sequence_array = []\n",
    "    for i in range(10):\n",
    "        state = np.zeros((7), dtype=np.int)\n",
    "        state[3] = 1\n",
    "        seq = state\n",
    "        loc = np.argwhere(state)[0][0]\n",
    "\n",
    "        while loc != 0 and loc != state.shape[0] - 1:\n",
    "            if np.random.rand() <= 0.5:\n",
    "                loc += -1\n",
    "            else:\n",
    "                loc += 1\n",
    "            state = np.zeros(7)\n",
    "            state[loc] = 1\n",
    "            seq = np.vstack((seq, state))\n",
    "        sequence_array.append(seq)\n",
    "    all_array.append(sequence_array)\n",
    "print all_array[0][9]\n",
    "    \n"
   ]
  },
  {
   "cell_type": "code",
   "execution_count": 7,
   "metadata": {
    "collapsed": true
   },
   "outputs": [],
   "source": [
    "def rmse(predictions, targets):\n",
    "    return np.sqrt(np.mean((predictions-targets)**2))"
   ]
  },
  {
   "cell_type": "code",
   "execution_count": 29,
   "metadata": {
    "collapsed": false
   },
   "outputs": [
    {
     "name": "stdout",
     "output_type": "stream",
     "text": [
      "[0.         0.         0.00390625 0.1640625  0.328125  ]\n"
     ]
    }
   ],
   "source": [
    "Z = np.array([0., 1./6, 1./3, 1./2, 2./3, 5./6, 1])\n",
    "\n",
    "\n",
    "# for i in range(10):\n",
    "#     sequence = ten_sequence[i]\n",
    "alpha = 0.5\n",
    "lam = 0.5\n",
    "\n",
    "rm_all = np.zeros(len(all_array))\n",
    "\n",
    "\n",
    "w_0 = np.array([0, 1./2, 1./2, 1./2, 1./2, 1./2, 1])\n",
    "e_s = np.zeros(7)\n",
    "\n",
    "\n",
    "\n",
    "sequence = np.array([[0., 0., 0., 1., 0., 0., 0.],\n",
    "                     [0., 0., 0., 0., 1., 0., 0.],\n",
    "                     [0., 0., 0., 0., 0., 1., 0.],\n",
    "                     [0., 0., 0., 0., 1., 0., 0.],\n",
    "                     [0., 0., 0., 0., 0., 1., 0.],\n",
    "                     [0., 0., 0., 0., 1., 0., 0.],\n",
    "                     [0., 0., 0., 0., 0., 1., 0.],\n",
    "                     [0., 0., 0., 0., 0., 0., 1.]])\n",
    "val_update = np.zeros(7)\n",
    "for t in range(len(sequence)-1):\n",
    "\n",
    "    delta = (w_0[sequence[t+1] == 1] - w_0[sequence[t] == 1])[0]\n",
    "    e_s[sequence[t] == 1] = e_s[sequence[t] == 1] + 1\n",
    "    for w in range(len(w_0)):\n",
    "        val_update[w] = val_update[w] + alpha * delta * e_s[w]\n",
    "        e_s[w] = lam * e_s[w]\n",
    "print val_update[1:-1]\n",
    "w_0 = w_0 + val_update\n",
    "\n"
   ]
  },
  {
   "cell_type": "code",
   "execution_count": 36,
   "metadata": {
    "collapsed": false
   },
   "outputs": [
    {
     "name": "stdout",
     "output_type": "stream",
     "text": [
      "[0.      0.      0.03125 0.3125  0.625  ]\n"
     ]
    }
   ],
   "source": [
    "Z = np.array([0., 1./6, 1./3, 1./2, 2./3, 5./6, 1])\n",
    "\n",
    "\n",
    "# for i in range(10):\n",
    "#     sequence = ten_sequence[i]\n",
    "alpha = 1\n",
    "lam = 0.5\n",
    "\n",
    "rm_all = np.zeros(len(all_array))\n",
    "\n",
    "\n",
    "w_0 = np.array([0, 1./2, 1./2, 1./2, 1./2, 1./2, 1])\n",
    "e_s = np.zeros(7)\n",
    "\n",
    "\n",
    "\n",
    "sequence = all_array[0][0]\n",
    "val_update = np.zeros(7)\n",
    "for t in range(len(sequence)-1):\n",
    "\n",
    "    delta = (w_0[sequence[t+1] == 1] - w_0[sequence[t] == 1])[0]\n",
    "    e_s[sequence[t] == 1] = e_s[sequence[t] == 1] + 1\n",
    "    for w in range(len(w_0)):\n",
    "        val_update[w] = val_update[w] + alpha * delta * e_s[w]\n",
    "        e_s[w] = lam * e_s[w]\n",
    "print val_update[1:-1]\n",
    "w_0 = w_0 + val_update\n",
    "\n"
   ]
  },
  {
   "cell_type": "code",
   "execution_count": null,
   "metadata": {
    "collapsed": true
   },
   "outputs": [],
   "source": [
    "e_s = np.zeros(7)\n",
    "sequence = all_array[0][0]\n",
    "val_update = np.zeros(7)\n",
    "for t in range(len(sequence)-1):\n",
    "\n",
    "    delta = (w_0[sequence[t+1] == 1] - w_0[sequence[t] == 1])[0]\n",
    "    e_s[sequence[t] == 1] = e_s[sequence[t] == 1] + 1\n",
    "    for w in range(len(w_0)):\n",
    "        val_update[w] = val_update[w] + alpha * delta * e_s[w]\n",
    "        e_s[w] = lam * e_s[w]\n",
    "print val_update[1:-1]"
   ]
  }
 ],
 "metadata": {
  "anaconda-cloud": {},
  "kernelspec": {
   "display_name": "Python [default]",
   "language": "python",
   "name": "python2"
  },
  "language_info": {
   "codemirror_mode": {
    "name": "ipython",
    "version": 2
   },
   "file_extension": ".py",
   "mimetype": "text/x-python",
   "name": "python",
   "nbconvert_exporter": "python",
   "pygments_lexer": "ipython2",
   "version": "2.7.12"
  }
 },
 "nbformat": 4,
 "nbformat_minor": 2
}
