{
 "cells": [
  {
   "cell_type": "code",
   "execution_count": 81,
   "metadata": {},
   "outputs": [],
   "source": [
    "from cvxopt import matrix, solvers\n",
    "import numpy as np \n",
    "from soccer import World, Player"
   ]
  },
  {
   "cell_type": "code",
   "execution_count": 82,
   "metadata": {},
   "outputs": [],
   "source": [
    "world = World()"
   ]
  },
  {
   "cell_type": "code",
   "execution_count": 83,
   "metadata": {},
   "outputs": [
    {
     "name": "stdout",
     "output_type": "stream",
     "text": [
      "False\n"
     ]
    }
   ],
   "source": [
    "ball1 = np.random.randint(2)== 1\n",
    "print (ball1)\n",
    "p1 = Player(x=2, y=0, has_ball=ball1, p_id='A')\n",
    "p2 = Player(x=1, y=0, has_ball= not ball1, p_id='B')"
   ]
  },
  {
   "cell_type": "code",
   "execution_count": 84,
   "metadata": {},
   "outputs": [
    {
     "data": {
      "text/plain": [
       "[['**', '**', '**', '**', '**', '**'],\n",
       " ['**', 'gB', '  ', '  ', 'gA', '**'],\n",
       " ['**', 'gB', '  ', '  ', 'gA', '**'],\n",
       " ['**', '**', '**', '**', '**', '**']]"
      ]
     },
     "execution_count": 84,
     "metadata": {},
     "output_type": "execute_result"
    }
   ],
   "source": [
    "world.init_grid()"
   ]
  },
  {
   "cell_type": "code",
   "execution_count": 85,
   "metadata": {},
   "outputs": [],
   "source": [
    "world.set_goals(goal_r=100, goal_col=0, player_id=2)\n",
    "world.set_goals(goal_r=-100, goal_col=0, player_id=1)\n",
    "\n",
    "world.set_goals(goal_r=100, goal_col=3, player_id=1)\n",
    "world.set_goals(goal_r=-100, goal_col=3, player_id=2)"
   ]
  },
  {
   "cell_type": "code",
   "execution_count": 86,
   "metadata": {},
   "outputs": [],
   "source": [
    "world.place_player(p1, 'A')\n",
    "world.place_player(p2, 'B')"
   ]
  },
  {
   "cell_type": "code",
   "execution_count": 87,
   "metadata": {},
   "outputs": [
    {
     "name": "stdout",
     "output_type": "stream",
     "text": [
      "** | ** | ** | ** | ** | **\n",
      "** | gB | B+ | A  | gA | **\n",
      "** | gB |    |    | gA | **\n",
      "** | ** | ** | ** | ** | **\n",
      "\n"
     ]
    }
   ],
   "source": [
    "world.plot_grid()"
   ]
  },
  {
   "cell_type": "code",
   "execution_count": 80,
   "metadata": {},
   "outputs": [
    {
     "data": {
      "text/plain": [
       "'B21'"
      ]
     },
     "execution_count": 80,
     "metadata": {},
     "output_type": "execute_result"
    }
   ],
   "source": [
    "m = world.map_player_state()\n",
    "r = {A: }"
   ]
  },
  {
   "cell_type": "code",
   "execution_count": null,
   "metadata": {},
   "outputs": [],
   "source": []
  }
 ],
 "metadata": {
  "kernelspec": {
   "display_name": "Python 3",
   "language": "python",
   "name": "python3"
  },
  "language_info": {
   "codemirror_mode": {
    "name": "ipython",
    "version": 3
   },
   "file_extension": ".py",
   "mimetype": "text/x-python",
   "name": "python",
   "nbconvert_exporter": "python",
   "pygments_lexer": "ipython3",
   "version": "3.6.6"
  }
 },
 "nbformat": 4,
 "nbformat_minor": 2
}
