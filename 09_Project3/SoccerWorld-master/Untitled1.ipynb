{
 "cells": [
  {
   "cell_type": "code",
   "execution_count": 169,
   "metadata": {},
   "outputs": [],
   "source": [
    "import matplotlib.pyplot as plt\n",
    "from cvxopt import matrix, solvers\n",
    "import numpy as np\n",
    "import random\n",
    "from SoccerWorld import player, game"
   ]
  },
  {
   "cell_type": "code",
   "execution_count": 215,
   "metadata": {},
   "outputs": [],
   "source": [
    "a = np.array([[6., 2],\n",
    "              [7,0]])\n",
    "b = np.array([[6., 2],\n",
    "              [7,0]])"
   ]
  },
  {
   "cell_type": "code",
   "execution_count": 216,
   "metadata": {},
   "outputs": [
    {
     "name": "stdout",
     "output_type": "stream",
     "text": [
      "[[ 0.  0.  0.  0.]\n",
      " [ 1. -2.  0.  0.]\n",
      " [ 0.  0. -1.  2.]\n",
      " [ 1.  0. -2.  0.]\n",
      " [ 0. -1.  0.  2.]]\n"
     ]
    }
   ],
   "source": [
    "arr = np.zeros((a.shape[0]**2))\n",
    "z = np.zeros((a.shape[0]**2))\n",
    "for i in range(a.shape[0]):\n",
    "    for j in range(a.shape[0]):\n",
    "        if i != j:\n",
    "            q = a[j] - a[i]\n",
    "            n = i * (a.shape[0])\n",
    "            arr[n:n+a.shape[0]] = q \n",
    "            z = np.vstack((z, arr))\n",
    "            arr = np.zeros((a.shape[0]**2))\n",
    "# print (z)\n",
    "            \n",
    "for i in range(b.shape[0]):\n",
    "    for j in range(b.shape[0]):\n",
    "        if i != j:\n",
    "            l = np.transpose(np.array(range(a.shape[0]**2)).reshape(a.shape[0],a.shape[0])).reshape(a.shape[0]**2)  \n",
    "            \n",
    "            q = b[j] - b[i]\n",
    "            n = i * (a.shape[0])\n",
    "            for kk in range(q.shape[0]):\n",
    "                arr[l[kk]+i] = q[kk]\n",
    "                \n",
    "            z = np.vstack((z, arr))\n",
    "            arr = np.zeros((a.shape[0]**2))\n",
    "G = np.delete(z, 0, axis=0)\n",
    "print(z)"
   ]
  },
  {
   "cell_type": "code",
   "execution_count": 217,
   "metadata": {},
   "outputs": [],
   "source": [
    "eye = np.eye(G.shape[1]) * -1\n",
    "G = np.vstack((G, eye))"
   ]
  },
  {
   "cell_type": "code",
   "execution_count": 218,
   "metadata": {},
   "outputs": [
    {
     "data": {
      "text/plain": [
       "array([[ 1., -2.,  0.,  0.],\n",
       "       [ 0.,  0., -1.,  2.],\n",
       "       [ 1.,  0., -2.,  0.],\n",
       "       [ 0., -1.,  0.,  2.],\n",
       "       [-1., -0., -0., -0.],\n",
       "       [-0., -1., -0., -0.],\n",
       "       [-0., -0., -1., -0.],\n",
       "       [-0., -0., -0., -1.]])"
      ]
     },
     "execution_count": 218,
     "metadata": {},
     "output_type": "execute_result"
    }
   ],
   "source": [
    "G"
   ]
  },
  {
   "cell_type": "code",
   "execution_count": 219,
   "metadata": {},
   "outputs": [],
   "source": [
    "q = np.ones(a.shape[0]**2) * 1.\n",
    "G = np.vstack((G, q))\n",
    "q = np.ones(a.shape[0]**2) * -1.\n",
    "G = np.vstack((G, q))"
   ]
  },
  {
   "cell_type": "code",
   "execution_count": 220,
   "metadata": {},
   "outputs": [
    {
     "data": {
      "text/plain": [
       "array([[ 1., -2.,  0.,  0.],\n",
       "       [ 0.,  0., -1.,  2.],\n",
       "       [ 1.,  0., -2.,  0.],\n",
       "       [ 0., -1.,  0.,  2.],\n",
       "       [-1., -0., -0., -0.],\n",
       "       [-0., -1., -0., -0.],\n",
       "       [-0., -0., -1., -0.],\n",
       "       [-0., -0., -0., -1.],\n",
       "       [ 1.,  1.,  1.,  1.],\n",
       "       [-1., -1., -1., -1.]])"
      ]
     },
     "execution_count": 220,
     "metadata": {},
     "output_type": "execute_result"
    }
   ],
   "source": [
    "G"
   ]
  },
  {
   "cell_type": "code",
   "execution_count": 221,
   "metadata": {},
   "outputs": [],
   "source": [
    "b = np.zeros((G.shape[0], 1))\n",
    "b[-2] = 1\n",
    "b[-1] = -1"
   ]
  },
  {
   "cell_type": "code",
   "execution_count": 222,
   "metadata": {},
   "outputs": [
    {
     "name": "stdout",
     "output_type": "stream",
     "text": [
      "[ 0.00e+00]\n",
      "[ 0.00e+00]\n",
      "[ 0.00e+00]\n",
      "[ 0.00e+00]\n",
      "\n"
     ]
    }
   ],
   "source": [
    "c = np.zeros((a.shape[0] ** 2))\n",
    "c = matrix(c)\n",
    "print (c)"
   ]
  },
  {
   "cell_type": "code",
   "execution_count": 223,
   "metadata": {},
   "outputs": [],
   "source": [
    "G = matrix(G)\n",
    "b = matrix(b)"
   ]
  },
  {
   "cell_type": "code",
   "execution_count": 224,
   "metadata": {},
   "outputs": [],
   "source": [
    "sol = solvers.lp(c,G,b, solver='glpk')"
   ]
  },
  {
   "cell_type": "code",
   "execution_count": 226,
   "metadata": {},
   "outputs": [
    {
     "data": {
      "text/plain": [
       "array([[0.5 , 0.25],\n",
       "       [0.25, 0.  ]])"
      ]
     },
     "execution_count": 226,
     "metadata": {},
     "output_type": "execute_result"
    }
   ],
   "source": [
    "np.array(sol['x']).reshape(a.shape[0], a.shape[0])"
   ]
  },
  {
   "cell_type": "code",
   "execution_count": null,
   "metadata": {},
   "outputs": [],
   "source": []
  }
 ],
 "metadata": {
  "kernelspec": {
   "display_name": "Python 3",
   "language": "python",
   "name": "python3"
  },
  "language_info": {
   "codemirror_mode": {
    "name": "ipython",
    "version": 3
   },
   "file_extension": ".py",
   "mimetype": "text/x-python",
   "name": "python",
   "nbconvert_exporter": "python",
   "pygments_lexer": "ipython3",
   "version": "3.6.6"
  }
 },
 "nbformat": 4,
 "nbformat_minor": 2
}
