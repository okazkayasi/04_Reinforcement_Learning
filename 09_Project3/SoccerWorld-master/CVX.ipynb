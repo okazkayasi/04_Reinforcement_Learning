{
 "cells": [
  {
   "cell_type": "code",
   "execution_count": 1,
   "metadata": {},
   "outputs": [],
   "source": [
    "import matplotlib.pyplot as plt\n",
    "from cvxopt import matrix, solvers\n",
    "import numpy as np\n",
    "import random\n",
    "from SoccerWorld import player, game"
   ]
  },
  {
   "cell_type": "code",
   "execution_count": 44,
   "metadata": {},
   "outputs": [],
   "source": [
    "\n",
    "num_actions = 5\n",
    "num_rows = 2\n",
    "num_cols = 4\n",
    "num_states = num_rows * num_cols * 2 #2\n",
    "qtable = np.zeros(shape=(num_states, num_actions, num_actions), dtype='float')\n"
   ]
  },
  {
   "cell_type": "code",
   "execution_count": 45,
   "metadata": {},
   "outputs": [],
   "source": [
    "c = matrix([0., 0., 0., 0., 0., -1.])"
   ]
  },
  {
   "cell_type": "code",
   "execution_count": 71,
   "metadata": {},
   "outputs": [
    {
     "data": {
      "text/plain": [
       "array([[-0., -0., -0., -0., -0.,  1.],\n",
       "       [-0., -0., -0., -0., -0.,  1.],\n",
       "       [-0., -0., -0., -0., -0.,  1.],\n",
       "       [-0., -0., -0., -0., -0.,  1.],\n",
       "       [-0., -0., -0., -0., -0.,  1.]])"
      ]
     },
     "execution_count": 71,
     "metadata": {},
     "output_type": "execute_result"
    }
   ],
   "source": [
    "G = qtable[2, :, :]\n",
    "G = np.hstack((G, np.ones((num_actions, 1)) * -1.))\n",
    "G = -G\n",
    "G"
   ]
  },
  {
   "cell_type": "code",
   "execution_count": 72,
   "metadata": {},
   "outputs": [
    {
     "data": {
      "text/plain": [
       "array([[-0., -0., -0., -0., -0.,  1.],\n",
       "       [-0., -0., -0., -0., -0.,  1.],\n",
       "       [-0., -0., -0., -0., -0.,  1.],\n",
       "       [-0., -0., -0., -0., -0.,  1.],\n",
       "       [-0., -0., -0., -0., -0.,  1.],\n",
       "       [ 1.,  1.,  1.,  1.,  1.,  0.],\n",
       "       [-1., -1., -1., -1., -1.,  0.]])"
      ]
     },
     "execution_count": 72,
     "metadata": {},
     "output_type": "execute_result"
    }
   ],
   "source": [
    "q = np.ones(num_actions+1) * 1.\n",
    "q[-1] = 0\n",
    "G = np.vstack((G, q))\n",
    "q = np.ones(num_actions+1) * -1.\n",
    "q[-1] = 0\n",
    "G = np.vstack((G, q))\n",
    "G"
   ]
  },
  {
   "cell_type": "code",
   "execution_count": 73,
   "metadata": {},
   "outputs": [
    {
     "name": "stdout",
     "output_type": "stream",
     "text": [
      "[[-0. -0. -0. -0. -0.  1.]\n",
      " [-0. -0. -0. -0. -0.  1.]\n",
      " [-0. -0. -0. -0. -0.  1.]\n",
      " [-0. -0. -0. -0. -0.  1.]\n",
      " [-0. -0. -0. -0. -0.  1.]\n",
      " [ 1.  1.  1.  1.  1.  0.]\n",
      " [-1. -1. -1. -1. -1.  0.]\n",
      " [-1. -0. -0. -0. -0.  0.]\n",
      " [-0. -1. -0. -0. -0.  0.]\n",
      " [-0. -0. -1. -0. -0.  0.]\n",
      " [-0. -0. -0. -1. -0.  0.]\n",
      " [-0. -0. -0. -0. -1.  0.]]\n"
     ]
    },
    {
     "data": {
      "text/plain": [
       "<12x6 matrix, tc='d'>"
      ]
     },
     "execution_count": 73,
     "metadata": {},
     "output_type": "execute_result"
    }
   ],
   "source": [
    "q = np.hstack((np.eye(num_actions)*-1., np.zeros((num_actions,1))))\n",
    "G = np.vstack((G,q))\n",
    "print (G)\n",
    "G = matrix(G)\n",
    "G"
   ]
  },
  {
   "cell_type": "code",
   "execution_count": 74,
   "metadata": {},
   "outputs": [
    {
     "name": "stdout",
     "output_type": "stream",
     "text": [
      "[ 0.  0.  0.  0.  0. -1.]\n",
      "[ 0.00e+00]\n",
      "[ 0.00e+00]\n",
      "[ 0.00e+00]\n",
      "[ 0.00e+00]\n",
      "[ 0.00e+00]\n",
      "[-1.00e+00]\n",
      "\n"
     ]
    }
   ],
   "source": [
    "c = np.zeros((num_actions+1))\n",
    "c[-1] = -1\n",
    "print (c)\n",
    "c = matrix(c)\n",
    "print (c)\n"
   ]
  },
  {
   "cell_type": "code",
   "execution_count": 75,
   "metadata": {},
   "outputs": [
    {
     "name": "stdout",
     "output_type": "stream",
     "text": [
      "[ 0.  0.  0.  0.  0.  1. -1.  0.  0.  0.  0.  0.]\n",
      "[ 0.00e+00]\n",
      "[ 0.00e+00]\n",
      "[ 0.00e+00]\n",
      "[ 0.00e+00]\n",
      "[ 0.00e+00]\n",
      "[ 1.00e+00]\n",
      "[-1.00e+00]\n",
      "[ 0.00e+00]\n",
      "[ 0.00e+00]\n",
      "[ 0.00e+00]\n",
      "[ 0.00e+00]\n",
      "[ 0.00e+00]\n",
      "\n"
     ]
    }
   ],
   "source": [
    "b = np.zeros((num_actions))\n",
    "b = np.hstack((b, [1,-1]))\n",
    "b = np.hstack((b, np.zeros(num_actions)))\n",
    "print (b)\n",
    "b = matrix(b)\n",
    "print (b)"
   ]
  },
  {
   "cell_type": "code",
   "execution_count": 88,
   "metadata": {},
   "outputs": [
    {
     "name": "stdout",
     "output_type": "stream",
     "text": [
      "<class 'numpy.ndarray'>\n",
      "<class 'float'>\n"
     ]
    }
   ],
   "source": [
    "sol = solvers.lp(c,G,b, solver='glpk')\n",
    "print (type(np.array(sol['x'][:5]).reshape(1,5)[0]))\n",
    "print (type(sol['x'][5]))"
   ]
  },
  {
   "cell_type": "code",
   "execution_count": null,
   "metadata": {},
   "outputs": [],
   "source": []
  },
  {
   "cell_type": "code",
   "execution_count": null,
   "metadata": {},
   "outputs": [],
   "source": []
  }
 ],
 "metadata": {
  "kernelspec": {
   "display_name": "Python 3",
   "language": "python",
   "name": "python3"
  },
  "language_info": {
   "codemirror_mode": {
    "name": "ipython",
    "version": 3
   },
   "file_extension": ".py",
   "mimetype": "text/x-python",
   "name": "python",
   "nbconvert_exporter": "python",
   "pygments_lexer": "ipython3",
   "version": "3.6.6"
  }
 },
 "nbformat": 4,
 "nbformat_minor": 2
}
