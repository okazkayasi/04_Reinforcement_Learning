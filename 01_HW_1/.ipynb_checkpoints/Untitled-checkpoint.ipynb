{
 "cells": [
  {
   "cell_type": "code",
   "execution_count": 1,
   "metadata": {},
   "outputs": [],
   "source": [
    "import mdptoolbox.example\n",
    "P, R = mdptoolbox.example.forest()"
   ]
  },
  {
   "cell_type": "code",
   "execution_count": 2,
   "metadata": {},
   "outputs": [
    {
     "data": {
      "text/plain": [
       "(0, 0, 0)"
      ]
     },
     "execution_count": 2,
     "metadata": {},
     "output_type": "execute_result"
    }
   ],
   "source": [
    "vi = mdptoolbox.mdp.ValueIteration(P, R, 0.9)\n",
    "vi.run()\n",
    "vi.policy"
   ]
  },
  {
   "cell_type": "code",
   "execution_count": 4,
   "metadata": {},
   "outputs": [],
   "source": [
    "import mdptoolbox\n",
    "mdptoolbox?\n",
    "\n"
   ]
  },
  {
   "cell_type": "code",
   "execution_count": 5,
   "metadata": {},
   "outputs": [],
   "source": [
    "mdptoolbox.mdp?"
   ]
  },
  {
   "cell_type": "code",
   "execution_count": 6,
   "metadata": {},
   "outputs": [],
   "source": [
    "mdptoolbox.mdp.ValueIteration?"
   ]
  },
  {
   "cell_type": "code",
   "execution_count": 7,
   "metadata": {},
   "outputs": [],
   "source": [
    "import mdptoolbox\n",
    "import numpy as np"
   ]
  },
  {
   "cell_type": "code",
   "execution_count": 8,
   "metadata": {},
   "outputs": [],
   "source": [
    "prob = np.zeros((2,5,5))\n",
    "\n",
    "prob[0] = [[0.3, 0.7, 0., 0., 0.],\n",
    "           [0.3, 0., 0.7, 0., 0.],\n",
    "           [0.3, 0., 0., 0.7, 0.],\n",
    "           [0.3, 0., 0., 0., 0.7],\n",
    "           [0.3, 0., 0., 0., 0.7]]\n",
    "\n",
    "prob[1] = [[1., 0., 0., 0., 0.],\n",
    "           [1., 0., 0., 0., 0.],\n",
    "           [1., 0., 0., 0., 0.],\n",
    "           [1., 0., 0., 0., 0.],\n",
    "           [1., 0., 0., 0., 0.]]"
   ]
  },
  {
   "cell_type": "code",
   "execution_count": null,
   "metadata": {},
   "outputs": [],
   "source": [
    "rewards = np.zeros((5,2))\n",
    "\n",
    "rewards[0] = [0., 0.]\n",
    "rewards[1] = [0., 1.]\n",
    "rewards[2] = [0., 1.]\n",
    "rewards[3] = [0., 1.]\n",
    "rewards[4] = [0.3, 2.]\n"
   ]
  }
 ],
 "metadata": {
  "kernelspec": {
   "display_name": "Python 2",
   "language": "python",
   "name": "python2"
  },
  "language_info": {
   "codemirror_mode": {
    "name": "ipython",
    "version": 2
   },
   "file_extension": ".py",
   "mimetype": "text/x-python",
   "name": "python",
   "nbconvert_exporter": "python",
   "pygments_lexer": "ipython2",
   "version": "2.7.12"
  }
 },
 "nbformat": 4,
 "nbformat_minor": 2
}
