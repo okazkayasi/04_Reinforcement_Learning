{
 "cells": [
  {
   "cell_type": "code",
   "execution_count": 38,
   "metadata": {},
   "outputs": [],
   "source": [
    "import mdptoolbox\n",
    "import numpy as np\n",
    "from math import ceil, log"
   ]
  },
  {
   "cell_type": "code",
   "execution_count": 45,
   "metadata": {},
   "outputs": [
    {
     "name": "stdout",
     "output_type": "stream",
     "text": [
      "[0 1 1 0 1 0 1 0 0 1 1 1 1 0 0 0 0 1 1 1 1 1 1]\n"
     ]
    }
   ],
   "source": [
    "N = 23\n",
    "isBadSide = np.array([0,1,1,0,1,0,1,0,0,1,1,1,1,0,0,0,0,1,1,1,1,1,1])\n",
    "print (isBadSide)"
   ]
  },
  {
   "cell_type": "code",
   "execution_count": 54,
   "metadata": {},
   "outputs": [
    {
     "name": "stdout",
     "output_type": "stream",
     "text": [
      "[ 1  4  6  8  9 14 15 16 17]\n"
     ]
    }
   ],
   "source": [
    "win_case = sum(isBadSide)\n",
    "prob_lose = (N - win_case)*1./N\n",
    "\n",
    "# estimated earning if not badside\n",
    "earnings = np.where(isBadSide == 0)[0]\n",
    "earnings = earnings + 1\n",
    "\n",
    "\n"
   ]
  },
  {
   "cell_type": "code",
   "execution_count": null,
   "metadata": {},
   "outputs": [],
   "source": [
    "\n",
    "# GEOMETRIC DISTRIBUTION\n",
    "# required times for 1 in a million chance\n",
    "req_times = (log(0.000001) - log(prob_lose)) / log(1-prob_lose)\n",
    "req_times = ceil(req_times)\n",
    "req_times\n",
    "\n",
    "# we will have 'req_times' attempts\n"
   ]
  },
  {
   "cell_type": "code",
   "execution_count": 26,
   "metadata": {},
   "outputs": [
    {
     "data": {
      "text/plain": [
       "0.391304347826087"
      ]
     },
     "execution_count": 26,
     "metadata": {},
     "output_type": "execute_result"
    }
   ],
   "source": [
    "probs = np.zeros((2,2))"
   ]
  }
 ],
 "metadata": {
  "kernelspec": {
   "display_name": "Python 2",
   "language": "python",
   "name": "python2"
  },
  "language_info": {
   "codemirror_mode": {
    "name": "ipython",
    "version": 2
   },
   "file_extension": ".py",
   "mimetype": "text/x-python",
   "name": "python",
   "nbconvert_exporter": "python",
   "pygments_lexer": "ipython2",
   "version": "2.7.12"
  }
 },
 "nbformat": 4,
 "nbformat_minor": 2
}
