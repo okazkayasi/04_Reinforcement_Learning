{
 "cells": [
  {
   "cell_type": "code",
   "execution_count": 104,
   "metadata": {},
   "outputs": [],
   "source": [
    "import mdptoolbox\n",
    "import numpy as np\n",
    "from math import ceil, log"
   ]
  },
  {
   "cell_type": "code",
   "execution_count": 105,
   "metadata": {},
   "outputs": [
    {
     "name": "stdout",
     "output_type": "stream",
     "text": [
      "[1 1 1 0 0 0]\n"
     ]
    }
   ],
   "source": [
    "N = 6\n",
    "isBadSide = np.array([1,1,1,0,0,0])\n",
    "print (isBadSide)"
   ]
  },
  {
   "cell_type": "code",
   "execution_count": 113,
   "metadata": {},
   "outputs": [
    {
     "name": "stdout",
     "output_type": "stream",
     "text": [
      "[4 5 6]\n"
     ]
    },
    {
     "data": {
      "text/plain": [
       "2.5"
      ]
     },
     "execution_count": 113,
     "metadata": {},
     "output_type": "execute_result"
    }
   ],
   "source": [
    "lose_case = sum(isBadSide)\n",
    "prob_lose = (lose_case)*1./N\n",
    "# estimated earning if not badside\n",
    "earnings = np.where(isBadSide == 0)[0]\n",
    "earnings = earnings + 1\n",
    "print earnings\n",
    "mean_earn = np.mean(earnings)\n",
    "expected_earn = (1-prob_lose) * mean_earn\n",
    "expected_earn\n",
    "\n"
   ]
  },
  {
   "cell_type": "code",
   "execution_count": 107,
   "metadata": {},
   "outputs": [
    {
     "data": {
      "text/plain": [
       "39"
      ]
     },
     "execution_count": 107,
     "metadata": {},
     "output_type": "execute_result"
    }
   ],
   "source": [
    "\n",
    "# GEOMETRIC DISTRIBUTION\n",
    "# required times for 1 in a million chance\n",
    "req_times = (log(0.000001) - log(prob_lose)) / log(1-prob_lose)\n",
    "req_times = ceil(req_times)\n",
    "req_times\n",
    "\n",
    "# we will have 'req_times' attempts\n",
    "number_of_states = int(int(expected_earn) * req_times)\n",
    "number_of_states += 1\n",
    "number_of_states\n"
   ]
  },
  {
   "cell_type": "code",
   "execution_count": 108,
   "metadata": {},
   "outputs": [
    {
     "data": {
      "text/plain": [
       "array([0, 0, 0, 4, 5, 6])"
      ]
     },
     "execution_count": 108,
     "metadata": {},
     "output_type": "execute_result"
    }
   ],
   "source": [
    "# state change vector, if it is 0 then return to terminal state, if not add number of states\n",
    "\n",
    "state_change = np.zeros(isBadSide.size, dtype=int)\n",
    "state_change = state_change + range(1,N+1)\n",
    "ind = np.array(np.where(isBadSide == 1)[0], dtype=int)\n",
    "state_change[ind] = 0 \n",
    "state_change"
   ]
  },
  {
   "cell_type": "code",
   "execution_count": 109,
   "metadata": {},
   "outputs": [],
   "source": [
    "probs = np.zeros((2,number_of_states, number_of_states))\n",
    "bank_roll_of_states = range(number_of_states)\n",
    "bank_roll_of_states\n",
    "\n",
    "# first action is roll\n",
    "for i in range(number_of_states):\n",
    "    indices = i + state_change\n",
    "    indices = indices[np.where(indices != i)[0]]\n",
    "    indices = indices[np.where(indices < number_of_states)[0]]\n",
    "    probs[0, i, indices] = 1./N\n",
    "    probs[0,i,-1] = prob_lose\n",
    "    probs[0,i,-2] = 1. - np.sum(probs[0, i, :]) + probs[0,i,-2]   \n",
    "    \n",
    "probs[0, -1, :] = np.zeros(number_of_states)\n",
    "probs[0, -1, -1] = 1.\n",
    "\n",
    "# second action is stop\n",
    "for i in range(number_of_states):\n",
    "    probs[1, i, -1] = 1.\n",
    "\n",
    "\n"
   ]
  },
  {
   "cell_type": "code",
   "execution_count": 110,
   "metadata": {},
   "outputs": [],
   "source": [
    "# rewards is action and state and also next state based \n",
    "\n",
    "rewards = np.zeros((2, number_of_states, number_of_states))\n",
    "\n",
    "# for roll\n",
    "for i in range(number_of_states):\n",
    "    rewards[0, i, :] = range(-i, number_of_states-i)\n",
    "    rewards[0, i, -1] = -i"
   ]
  },
  {
   "cell_type": "code",
   "execution_count": 111,
   "metadata": {},
   "outputs": [
    {
     "name": "stdout",
     "output_type": "stream",
     "text": [
      "WARNING: check conditions of convergence. With no discount, convergence can not be assumed.\n"
     ]
    }
   ],
   "source": [
    "vi = mdptoolbox.mdp.ValueIteration(probs, rewards, 1)\n",
    "vi.run()"
   ]
  },
  {
   "cell_type": "code",
   "execution_count": 112,
   "metadata": {},
   "outputs": [
    {
     "data": {
      "text/plain": [
       "(2.5833333333333335,\n",
       " 2.0,\n",
       " 1.5,\n",
       " 1.0,\n",
       " 0.5,\n",
       " 0.0,\n",
       " 0.0,\n",
       " 0.0,\n",
       " 0.0,\n",
       " 0.0,\n",
       " 0.0,\n",
       " 0.0,\n",
       " 0.0,\n",
       " 0.0,\n",
       " 0.0,\n",
       " 0.0,\n",
       " 0.0,\n",
       " 0.0,\n",
       " 0.0,\n",
       " 0.0,\n",
       " 0.0,\n",
       " 0.0,\n",
       " 0.0,\n",
       " 0.0,\n",
       " 0.0,\n",
       " 0.0,\n",
       " 0.0,\n",
       " 0.0,\n",
       " 0.0,\n",
       " 0.0,\n",
       " 0.0,\n",
       " 0.0,\n",
       " 0.0,\n",
       " 0.0,\n",
       " 0.0,\n",
       " 0.0,\n",
       " 0.0,\n",
       " 0.0,\n",
       " 0.0)"
      ]
     },
     "execution_count": 112,
     "metadata": {},
     "output_type": "execute_result"
    }
   ],
   "source": [
    "vi.V"
   ]
  },
  {
   "cell_type": "code",
   "execution_count": null,
   "metadata": {},
   "outputs": [],
   "source": []
  },
  {
   "cell_type": "code",
   "execution_count": null,
   "metadata": {},
   "outputs": [],
   "source": []
  }
 ],
 "metadata": {
  "kernelspec": {
   "display_name": "Python 2",
   "language": "python",
   "name": "python2"
  },
  "language_info": {
   "codemirror_mode": {
    "name": "ipython",
    "version": 2
   },
   "file_extension": ".py",
   "mimetype": "text/x-python",
   "name": "python",
   "nbconvert_exporter": "python",
   "pygments_lexer": "ipython2",
   "version": "2.7.12"
  }
 },
 "nbformat": 4,
 "nbformat_minor": 2
}
