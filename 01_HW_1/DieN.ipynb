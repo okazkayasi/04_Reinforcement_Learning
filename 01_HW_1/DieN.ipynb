{
 "cells": [
  {
   "cell_type": "code",
   "execution_count": 1,
   "metadata": {},
   "outputs": [],
   "source": [
    "import mdptoolbox\n",
    "import numpy as np\n",
    "from math import ceil, log"
   ]
  },
  {
   "cell_type": "code",
   "execution_count": 2,
   "metadata": {},
   "outputs": [
    {
     "name": "stdout",
     "output_type": "stream",
     "text": [
      "[0 1 1 0 1 0 1 0 0 1 1 1 1 0 0 0 0 1 1 1 1 1 1]\n"
     ]
    }
   ],
   "source": [
    "N = 23\n",
    "isBadSide = np.array([0,1,1,0,1,0,1,0,0,1,1,1,1,0,0,0,0,1,1,1,1,1,1])\n",
    "print (isBadSide)"
   ]
  },
  {
   "cell_type": "code",
   "execution_count": 3,
   "metadata": {},
   "outputs": [
    {
     "data": {
      "text/plain": [
       "3.913043478260869"
      ]
     },
     "execution_count": 3,
     "metadata": {},
     "output_type": "execute_result"
    }
   ],
   "source": [
    "lose_case = sum(isBadSide)\n",
    "prob_lose = (lose_case)*1./N\n",
    "# estimated earning if not badside\n",
    "earnings = np.where(isBadSide == 0)[0]\n",
    "earnings = earnings + 1\n",
    "mean_earn = np.mean(earnings)\n",
    "expected_earn = (1-prob_lose) * mean_earn\n",
    "expected_earn\n",
    "\n"
   ]
  },
  {
   "cell_type": "code",
   "execution_count": 4,
   "metadata": {},
   "outputs": [
    {
     "data": {
      "text/plain": [
       "46"
      ]
     },
     "execution_count": 4,
     "metadata": {},
     "output_type": "execute_result"
    }
   ],
   "source": [
    "\n",
    "# GEOMETRIC DISTRIBUTION\n",
    "# required times for 1 in a million chance\n",
    "req_times = (log(0.000001) - log(prob_lose)) / log(1-prob_lose)\n",
    "req_times = ceil(req_times)\n",
    "req_times\n",
    "\n",
    "# we will have 'req_times' attempts\n",
    "number_of_states = int(int(expected_earn) * req_times)\n",
    "number_of_states += 1\n",
    "number_of_states\n"
   ]
  },
  {
   "cell_type": "code",
   "execution_count": 5,
   "metadata": {},
   "outputs": [
    {
     "data": {
      "text/plain": [
       "array([ 1,  0,  0,  4,  0,  6,  0,  8,  9,  0,  0,  0,  0, 14, 15, 16, 17,\n",
       "        0,  0,  0,  0,  0,  0])"
      ]
     },
     "execution_count": 5,
     "metadata": {},
     "output_type": "execute_result"
    }
   ],
   "source": [
    "# state change vector, if it is 0 then return to terminal state, if not add number of states\n",
    "\n",
    "state_change = np.zeros(isBadSide.size, dtype=int)\n",
    "state_change = state_change + range(1,N+1)\n",
    "ind = np.array(np.where(isBadSide == 1)[0], dtype=int)\n",
    "state_change[ind] = 0 \n",
    "state_change"
   ]
  },
  {
   "cell_type": "code",
   "execution_count": 6,
   "metadata": {},
   "outputs": [
    {
     "name": "stdout",
     "output_type": "stream",
     "text": [
      "[0.         0.         0.         0.         0.         0.\n",
      " 0.         0.         0.         0.         0.         0.04347826\n",
      " 0.         0.         0.04347826 0.         0.04347826 0.\n",
      " 0.04347826 0.04347826 0.         0.         0.         0.\n",
      " 0.04347826 0.04347826 0.04347826 0.04347826 0.         0.\n",
      " 0.         0.         0.         0.         0.         0.\n",
      " 0.         0.         0.         0.         0.         0.\n",
      " 0.         0.         0.         0.60869565]\n"
     ]
    }
   ],
   "source": [
    "probs = np.zeros((2,number_of_states, number_of_states))\n",
    "bank_roll_of_states = range(number_of_states)\n",
    "bank_roll_of_states\n",
    "\n",
    "# first action is roll\n",
    "for i in range(number_of_states):\n",
    "    indices = i + state_change\n",
    "    indices = indices[np.where(indices != i)[0]]\n",
    "    indices = indices[np.where(indices < number_of_states)[0]]\n",
    "    probs[0, i, indices] = 1./N\n",
    "    probs[0,i,-1] = prob_lose\n",
    "    probs[0,i,-2] = 1. - np.sum(probs[0, i, :]) + probs[0,i,-2]   \n",
    "    \n",
    "probs[0, -1, :] = np.zeros(number_of_states)\n",
    "probs[0, -1, -1] = 1.\n",
    "\n",
    "print probs[0, 10, :]\n",
    "# second action is stop\n",
    "for i in range(number_of_states):\n",
    "    probs[1, i, -1] = 1.\n",
    "\n",
    "\n"
   ]
  },
  {
   "cell_type": "code",
   "execution_count": 7,
   "metadata": {},
   "outputs": [],
   "source": [
    "# rewards is action and state and also next state based \n",
    "\n",
    "rewards = np.zeros((2, number_of_states, number_of_states))\n",
    "\n",
    "# for roll\n",
    "for i in range(number_of_states):\n",
    "    rewards[0, i, :] = range(-i, number_of_states-i)\n",
    "    rewards[0, i, -1] = -i"
   ]
  },
  {
   "cell_type": "code",
   "execution_count": 8,
   "metadata": {},
   "outputs": [
    {
     "name": "stdout",
     "output_type": "stream",
     "text": [
      "WARNING: check conditions of convergence. With no discount, convergence can not be assumed.\n"
     ]
    }
   ],
   "source": [
    "vi = mdptoolbox.mdp.ValueIteration(probs, rewards, 1)\n",
    "vi.run()"
   ]
  },
  {
   "cell_type": "code",
   "execution_count": 9,
   "metadata": {},
   "outputs": [
    {
     "data": {
      "text/plain": [
       "(4.140708473740445,\n",
       " 3.4642886496260377,\n",
       " 2.8005260129859457,\n",
       " 2.1528725240404367,\n",
       " 1.5165611901043805,\n",
       " 0.880907372400756,\n",
       " 0.26086956521739113,\n",
       " 0.0,\n",
       " 0.0,\n",
       " 0.0,\n",
       " 0.0,\n",
       " 0.0,\n",
       " 0.0,\n",
       " 0.0,\n",
       " 0.0,\n",
       " 0.0,\n",
       " 0.0,\n",
       " 0.0,\n",
       " 0.0,\n",
       " 0.0,\n",
       " 0.0,\n",
       " 0.0,\n",
       " 0.0,\n",
       " 0.0,\n",
       " 0.0,\n",
       " 0.0,\n",
       " 0.0,\n",
       " 0.0,\n",
       " 0.0,\n",
       " 0.0,\n",
       " 0.0,\n",
       " 0.0,\n",
       " 0.0,\n",
       " 0.0,\n",
       " 0.0,\n",
       " 0.0,\n",
       " 0.0,\n",
       " 0.0,\n",
       " 0.0,\n",
       " 0.0,\n",
       " 0.0,\n",
       " 0.0,\n",
       " 0.0,\n",
       " 0.0,\n",
       " 0.0,\n",
       " 0.0)"
      ]
     },
     "execution_count": 9,
     "metadata": {},
     "output_type": "execute_result"
    }
   ],
   "source": [
    "vi.V"
   ]
  },
  {
   "cell_type": "code",
   "execution_count": 10,
   "metadata": {},
   "outputs": [
    {
     "data": {
      "text/plain": [
       "(0,\n",
       " 0,\n",
       " 0,\n",
       " 0,\n",
       " 0,\n",
       " 0,\n",
       " 0,\n",
       " 1,\n",
       " 1,\n",
       " 1,\n",
       " 1,\n",
       " 1,\n",
       " 1,\n",
       " 1,\n",
       " 1,\n",
       " 1,\n",
       " 1,\n",
       " 1,\n",
       " 1,\n",
       " 1,\n",
       " 1,\n",
       " 1,\n",
       " 1,\n",
       " 1,\n",
       " 1,\n",
       " 1,\n",
       " 1,\n",
       " 1,\n",
       " 1,\n",
       " 1,\n",
       " 1,\n",
       " 1,\n",
       " 1,\n",
       " 1,\n",
       " 1,\n",
       " 1,\n",
       " 1,\n",
       " 1,\n",
       " 1,\n",
       " 1,\n",
       " 1,\n",
       " 1,\n",
       " 1,\n",
       " 1,\n",
       " 1,\n",
       " 1)"
      ]
     },
     "execution_count": 10,
     "metadata": {},
     "output_type": "execute_result"
    }
   ],
   "source": [
    "vi.policy"
   ]
  },
  {
   "cell_type": "code",
   "execution_count": null,
   "metadata": {},
   "outputs": [],
   "source": []
  }
 ],
 "metadata": {
  "kernelspec": {
   "display_name": "Python 2",
   "language": "python",
   "name": "python2"
  },
  "language_info": {
   "codemirror_mode": {
    "name": "ipython",
    "version": 2
   },
   "file_extension": ".py",
   "mimetype": "text/x-python",
   "name": "python",
   "nbconvert_exporter": "python",
   "pygments_lexer": "ipython2",
   "version": "2.7.12"
  }
 },
 "nbformat": 4,
 "nbformat_minor": 2
}
