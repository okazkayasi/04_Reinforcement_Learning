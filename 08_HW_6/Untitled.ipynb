{
 "cells": [
  {
   "cell_type": "code",
   "execution_count": 3,
   "metadata": {},
   "outputs": [],
   "source": [
    "from cvxopt import matrix, solvers\n",
    "import numpy as np"
   ]
  },
  {
   "cell_type": "code",
   "execution_count": 73,
   "metadata": {},
   "outputs": [],
   "source": [
    "A = [[0.0, 2.63, -4.9], [-2.63, 0.0, 1.0], [4.9, -1.0, 0.0]]"
   ]
  },
  {
   "cell_type": "code",
   "execution_count": 74,
   "metadata": {},
   "outputs": [],
   "source": [
    "num_vars = len(A)\n",
    "c = [-1] + [0 for i in range(num_vars)]\n",
    "c = np.array(c, dtype=\"float\")\n",
    "c = matrix(c)"
   ]
  },
  {
   "cell_type": "code",
   "execution_count": 75,
   "metadata": {},
   "outputs": [],
   "source": [
    "# constraints G*x <= h\n",
    "G = np.matrix(A, dtype='float').T\n",
    "G *= -1\n",
    "G = np.vstack([G, np.eye(num_vars) * -1]) # >0 constraint for all\n",
    "new_col = [1 for i in range(num_vars)] + [0 for i in range(num_vars)]\n",
    "new_col\n",
    "G = np.insert(G, 0, new_col, axis=1) #insert utility column\n",
    "G = matrix(G)"
   ]
  },
  {
   "cell_type": "code",
   "execution_count": 76,
   "metadata": {},
   "outputs": [],
   "source": [
    "h = ([0 for i in range(num_vars)] + [0 for i in range(num_vars)])\n",
    "h = np.array(h, dtype='float')\n",
    "h = matrix(h)"
   ]
  },
  {
   "cell_type": "code",
   "execution_count": 77,
   "metadata": {},
   "outputs": [
    {
     "name": "stdout",
     "output_type": "stream",
     "text": [
      "[ 0.00e+00  1.00e+00  1.00e+00  1.00e+00]\n",
      "\n"
     ]
    }
   ],
   "source": [
    "# constraints Ax = b\n",
    "A = [0] + [1 for i in range(num_vars)]\n",
    "A = np.matrix(A, dtype='float')\n",
    "A = matrix(A)\n",
    "print (A)\n",
    "\n",
    "b = np.matrix(1, dtype='float')\n",
    "b = matrix(b)"
   ]
  },
  {
   "cell_type": "code",
   "execution_count": 78,
   "metadata": {},
   "outputs": [],
   "source": [
    "sol = solvers.lp(c=c, G=G, h=h, A=A, b=b, solver ='glpk')"
   ]
  },
  {
   "cell_type": "code",
   "execution_count": 88,
   "metadata": {},
   "outputs": [
    {
     "name": "stdout",
     "output_type": "stream",
     "text": [
      "0.11723329425556858\n"
     ]
    }
   ],
   "source": [
    "print (sol['x'][1])"
   ]
  },
  {
   "cell_type": "code",
   "execution_count": 61,
   "metadata": {},
   "outputs": [
    {
     "name": "stdout",
     "output_type": "stream",
     "text": [
      "[ 1.00e+00  0.00e+00  1.00e+00 -1.00e+00]\n",
      "[ 1.00e+00 -1.00e+00  0.00e+00  1.00e+00]\n",
      "[ 1.00e+00  1.00e+00 -1.00e+00  0.00e+00]\n",
      "[ 0.00e+00 -1.00e+00 -0.00e+00 -0.00e+00]\n",
      "[ 0.00e+00 -0.00e+00 -1.00e+00 -0.00e+00]\n",
      "[ 0.00e+00 -0.00e+00 -0.00e+00 -1.00e+00]\n",
      "\n"
     ]
    }
   ],
   "source": [
    "print (G)"
   ]
  },
  {
   "cell_type": "code",
   "execution_count": 62,
   "metadata": {},
   "outputs": [
    {
     "name": "stdout",
     "output_type": "stream",
     "text": [
      "[ 0.00e+00]\n",
      "[ 0.00e+00]\n",
      "[ 0.00e+00]\n",
      "[ 0.00e+00]\n",
      "[ 0.00e+00]\n",
      "[ 0.00e+00]\n",
      "\n"
     ]
    }
   ],
   "source": [
    "print (h)"
   ]
  },
  {
   "cell_type": "code",
   "execution_count": 63,
   "metadata": {},
   "outputs": [
    {
     "name": "stdout",
     "output_type": "stream",
     "text": [
      "[ 0.00e+00  1.00e+00  1.00e+00  1.00e+00]\n",
      "\n"
     ]
    }
   ],
   "source": [
    "print (A)"
   ]
  },
  {
   "cell_type": "code",
   "execution_count": 64,
   "metadata": {},
   "outputs": [
    {
     "name": "stdout",
     "output_type": "stream",
     "text": [
      "[ 1.00e+00]\n",
      "\n"
     ]
    }
   ],
   "source": [
    "print (b)"
   ]
  },
  {
   "cell_type": "code",
   "execution_count": 65,
   "metadata": {},
   "outputs": [
    {
     "name": "stdout",
     "output_type": "stream",
     "text": [
      "[-1.00e+00]\n",
      "[ 0.00e+00]\n",
      "[ 0.00e+00]\n",
      "[ 0.00e+00]\n",
      "\n"
     ]
    }
   ],
   "source": [
    "print(c)\n"
   ]
  },
  {
   "cell_type": "code",
   "execution_count": null,
   "metadata": {},
   "outputs": [],
   "source": []
  }
 ],
 "metadata": {
  "kernelspec": {
   "display_name": "Python 3",
   "language": "python",
   "name": "python3"
  },
  "language_info": {
   "codemirror_mode": {
    "name": "ipython",
    "version": 3
   },
   "file_extension": ".py",
   "mimetype": "text/x-python",
   "name": "python",
   "nbconvert_exporter": "python",
   "pygments_lexer": "ipython3",
   "version": "3.6.6"
  }
 },
 "nbformat": 4,
 "nbformat_minor": 2
}
